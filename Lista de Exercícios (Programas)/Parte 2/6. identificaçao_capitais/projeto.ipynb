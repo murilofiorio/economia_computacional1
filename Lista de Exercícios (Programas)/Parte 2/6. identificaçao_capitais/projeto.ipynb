{
 "cells": [
  {
   "cell_type": "markdown",
   "id": "4eb476c4-0594-4a9a-a1cf-698e2e2f6565",
   "metadata": {},
   "source": [
    "# Identificação de Capitais\n",
    "\n",
    "Executável: capitais.py"
   ]
  },
  {
   "cell_type": "markdown",
   "id": "00cc4be6-8bf9-4977-aab8-aa078eff76da",
   "metadata": {},
   "source": [
    "# Problema\n",
    "\n",
    "Leia um texto e informe se ele é o nome da capital de um estado da região sul do Brasil."
   ]
  },
  {
   "cell_type": "code",
   "execution_count": 2,
   "id": "07d2a061-1a5f-4c75-8375-0489cfcbbe34",
   "metadata": {},
   "outputs": [],
   "source": [
    "# Alocação de Memória\n",
    "\n",
    "capitais = ['Porto Alegre', 'Florianópolis', 'Curitiba']\n",
    "\n",
    "x: str = 0"
   ]
  },
  {
   "cell_type": "code",
   "execution_count": 11,
   "id": "808ea441-da0e-4219-bbef-bea699535418",
   "metadata": {},
   "outputs": [
    {
     "name": "stdin",
     "output_type": "stream",
     "text": [
      "Digite uma capital:  Acre\n"
     ]
    }
   ],
   "source": [
    "# Entrada de Dados\n",
    "\n",
    "x = input('Digite uma capital: ')"
   ]
  },
  {
   "cell_type": "code",
   "execution_count": 12,
   "id": "3fdc6562-fbfe-4de4-87e8-0cd40c509f45",
   "metadata": {},
   "outputs": [
    {
     "name": "stdout",
     "output_type": "stream",
     "text": [
      "Não é uma capital presente na região sul do Brasil.\n"
     ]
    }
   ],
   "source": [
    "# Processamento e Saída de Dados\n",
    "\n",
    "if x in capitais:\n",
    "    print(\"É uma capital de um Estado da região sul do Brasil.\")\n",
    "\n",
    "else:\n",
    "    print(\"Não é uma capital presente na região sul do Brasil.\")"
   ]
  }
 ],
 "metadata": {
  "kernelspec": {
   "display_name": "Python 3 (ipykernel)",
   "language": "python",
   "name": "python3"
  },
  "language_info": {
   "codemirror_mode": {
    "name": "ipython",
    "version": 3
   },
   "file_extension": ".py",
   "mimetype": "text/x-python",
   "name": "python",
   "nbconvert_exporter": "python",
   "pygments_lexer": "ipython3",
   "version": "3.11.7"
  }
 },
 "nbformat": 4,
 "nbformat_minor": 5
}
