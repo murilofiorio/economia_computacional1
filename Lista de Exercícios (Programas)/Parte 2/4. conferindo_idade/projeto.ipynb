{
 "cells": [
  {
   "cell_type": "markdown",
   "id": "daf98ec9-cd69-410d-8128-5feb8f2e5262",
   "metadata": {},
   "source": [
    "# Programa que Confere Idade\n",
    "\n",
    "Executável: idade.py"
   ]
  },
  {
   "cell_type": "markdown",
   "id": "2f7e84a5-f6be-46ed-86e7-e21965ae042c",
   "metadata": {},
   "source": [
    "# Problema\n",
    "\n",
    "Leia o nome e a idade de uma pessoa. Se a pessoa tiver menos de 18 anos, imprimir \"”[nome] ãao pode assistir a este filme\" ”onde no lugar de [nome] deve sair o nome lido d \r\n",
    "teclado.\r"
   ]
  },
  {
   "cell_type": "code",
   "execution_count": 8,
   "id": "92217b48-5555-41f3-b57c-c6668e63d1fc",
   "metadata": {},
   "outputs": [],
   "source": [
    "# Alocação de Memória\n",
    "\n",
    "idade: int = 0\n",
    "nome: str = 0"
   ]
  },
  {
   "cell_type": "code",
   "execution_count": 18,
   "id": "35bb03a4-275e-4a5c-9d16-963b57e51921",
   "metadata": {},
   "outputs": [
    {
     "name": "stdin",
     "output_type": "stream",
     "text": [
      "Qual seu nome?  Murilo\n",
      "Qual sua idade?  -9\n"
     ]
    }
   ],
   "source": [
    "# Entrada de Dados\n",
    "\n",
    "nome = input(\"Qual seu nome? \")\n",
    "idade = int(input(\"Qual sua idade? \"))"
   ]
  },
  {
   "cell_type": "code",
   "execution_count": 20,
   "id": "934ae26e-9b17-46af-83ce-0fbf933033ba",
   "metadata": {},
   "outputs": [
    {
     "name": "stdout",
     "output_type": "stream",
     "text": [
      "Murilo está realmente vivo?\n"
     ]
    }
   ],
   "source": [
    "# Processamento e Saída de Dados\n",
    "\n",
    "if 0 <= idade < 18:\n",
    "    print(f\"{nome} não pode assistir a este filme.\")\n",
    "\n",
    "elif 18 <= idade <=100:\n",
    "    print(f\"{nome} pode assistir a este filme.\")\n",
    "\n",
    "else:\n",
    "    print(f\"{nome} está realmente vivo?\")"
   ]
  }
 ],
 "metadata": {
  "kernelspec": {
   "display_name": "Python 3 (ipykernel)",
   "language": "python",
   "name": "python3"
  },
  "language_info": {
   "codemirror_mode": {
    "name": "ipython",
    "version": 3
   },
   "file_extension": ".py",
   "mimetype": "text/x-python",
   "name": "python",
   "nbconvert_exporter": "python",
   "pygments_lexer": "ipython3",
   "version": "3.11.7"
  }
 },
 "nbformat": 4,
 "nbformat_minor": 5
}
