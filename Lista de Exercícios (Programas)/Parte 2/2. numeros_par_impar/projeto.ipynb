{
 "cells": [
  {
   "cell_type": "markdown",
   "id": "b5581d5f-55bd-4665-8dfe-3b7e2e6ef8c3",
   "metadata": {},
   "source": [
    "# Número Pares ou Ímpares\n",
    "\n",
    "Executável: par_impar.py"
   ]
  },
  {
   "cell_type": "markdown",
   "id": "4223f429-3fe5-434a-bbb4-88b5a163d75f",
   "metadata": {},
   "source": [
    "# Problema\n",
    "\n",
    "Leia um número e imprima na tela a mensagem \"O número é par\" se o número lido for par e \"O número é ímpar\" se o número lido for ímpar. Em caso de número não inteiros ou negativos, imprima na tela \"Este número não é válido\"."
   ]
  },
  {
   "cell_type": "code",
   "execution_count": 1,
   "id": "779d64b8-bdea-4814-8d92-ef60c10e84bd",
   "metadata": {},
   "outputs": [],
   "source": [
    "# Alocação de Memória\n",
    "\n",
    "a: float = 0"
   ]
  },
  {
   "cell_type": "code",
   "execution_count": 7,
   "id": "aa8a4ec7-958b-43b8-8cfd-831c2c255ce6",
   "metadata": {},
   "outputs": [
    {
     "name": "stdin",
     "output_type": "stream",
     "text": [
      "Digite um número:  7\n"
     ]
    }
   ],
   "source": [
    "# Entrada de Dados\n",
    "\n",
    "a = float(input('Digite um número: '))"
   ]
  },
  {
   "cell_type": "code",
   "execution_count": 8,
   "id": "027b2c4e-1c21-4ac9-bf8b-8758fc7c2668",
   "metadata": {},
   "outputs": [
    {
     "name": "stdout",
     "output_type": "stream",
     "text": [
      "O número é ímpar.\n"
     ]
    }
   ],
   "source": [
    "# Processamento e Saída de Dados\n",
    "\n",
    "if a % 2 == 0:\n",
    "    print(\"O número é par.\")\n",
    "\n",
    "else:\n",
    "    print(\"O número é ímpar.\")"
   ]
  }
 ],
 "metadata": {
  "kernelspec": {
   "display_name": "Python 3 (ipykernel)",
   "language": "python",
   "name": "python3"
  },
  "language_info": {
   "codemirror_mode": {
    "name": "ipython",
    "version": 3
   },
   "file_extension": ".py",
   "mimetype": "text/x-python",
   "name": "python",
   "nbconvert_exporter": "python",
   "pygments_lexer": "ipython3",
   "version": "3.11.7"
  }
 },
 "nbformat": 4,
 "nbformat_minor": 5
}
