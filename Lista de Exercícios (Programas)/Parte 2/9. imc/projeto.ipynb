{
 "cells": [
  {
   "cell_type": "markdown",
   "id": "872dba8d-6f0d-417b-a691-a32a56b9485e",
   "metadata": {},
   "source": [
    "# Cálculo de IMC\n",
    "\n",
    "Executável: imc.py"
   ]
  },
  {
   "cell_type": "markdown",
   "id": "add68d27-e05c-4168-9ebe-ae4ac1536ba2",
   "metadata": {},
   "source": [
    "# Problema\n",
    "\n",
    "Leia o peso e a altura de uma pessoa, calcule seu índice de massa corporal (IMC), classifique essa pessoa de acordo com a tabela abaixo e escreva na tela a condiãoo da pessoa:\n",
    "\n",
    "IMC\n",
    "\n",
    "(a) menor que ou igual a 18,5 \\\n",
    "(b) maior que 18,5 até 25 \\\n",
    "(c) maior que 25 até 30 \\\n",
    "(d) maior que 30 \n",
    "\n",
    "Condição\n",
    "\n",
    "(a) excessivamente magro \\\n",
    "(b) peso normal \\\n",
    "(c) sobrepeso \\\n",
    "(d) obeso"
   ]
  },
  {
   "cell_type": "code",
   "execution_count": 2,
   "id": "9c63d31b-50a7-446d-bee9-b81be8a306de",
   "metadata": {},
   "outputs": [],
   "source": [
    "# Alocação de Memória\n",
    "\n",
    "ind_massa: float = 0\n",
    "altura: float = 0\n",
    "peso: float = 0"
   ]
  },
  {
   "cell_type": "code",
   "execution_count": 6,
   "id": "9be3b4e8-8f3b-4599-bc62-5df8800dc9fa",
   "metadata": {},
   "outputs": [
    {
     "name": "stdin",
     "output_type": "stream",
     "text": [
      "Qual sua altura em metros?  1.7\n",
      "Qual seu peso em kg?  65\n"
     ]
    }
   ],
   "source": [
    "# Entrada de Dados\n",
    "\n",
    "altura = float(input(\"Qual sua altura em metros? \"))\n",
    "peso = float(input('Qual seu peso em kg? '))"
   ]
  },
  {
   "cell_type": "code",
   "execution_count": 8,
   "id": "094955dd-e9f0-434b-a4b1-54cba251330a",
   "metadata": {},
   "outputs": [
    {
     "name": "stdout",
     "output_type": "stream",
     "text": [
      "Com índice IMC de 22.49, você está com peso normal.\n"
     ]
    }
   ],
   "source": [
    "# Processamento e Saída de Dados\n",
    "\n",
    "ind_massa = peso / altura**2\n",
    "\n",
    "if ind_massa <= 18.5:\n",
    "    print(f\"Com índice IMC de {ind_massa:.2f}, você está excessivamente magro(a).\")\n",
    "\n",
    "elif 18.5 < ind_massa <= 25:\n",
    "    print(f\"Com índice IMC de {ind_massa:.2f}, você está com peso normal.\")\n",
    "\n",
    "elif 25 < ind_massa <= 30:\n",
    "    print(f\"Com índice IMC de {ind_massa:.2f}, você está com sobrepeso.\")\n",
    "\n",
    "elif ind_massa >= 30:\n",
    "    print(f\"Com índice IMC de {ind_massa:.2f}, você está obeso(a).\")\n",
    "else:\n",
    "    print(f\"Valores errados informados.\")\n"
   ]
  }
 ],
 "metadata": {
  "kernelspec": {
   "display_name": "Python 3 (ipykernel)",
   "language": "python",
   "name": "python3"
  },
  "language_info": {
   "codemirror_mode": {
    "name": "ipython",
    "version": 3
   },
   "file_extension": ".py",
   "mimetype": "text/x-python",
   "name": "python",
   "nbconvert_exporter": "python",
   "pygments_lexer": "ipython3",
   "version": "3.11.7"
  }
 },
 "nbformat": 4,
 "nbformat_minor": 5
}
