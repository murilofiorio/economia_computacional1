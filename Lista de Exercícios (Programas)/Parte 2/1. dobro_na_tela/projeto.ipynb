{
 "cells": [
  {
   "cell_type": "markdown",
   "id": "498100e3-b25c-445a-87e7-8b8aae997ce7",
   "metadata": {},
   "source": [
    "# Programa Dobro na Tela\n",
    "\n",
    "Executável: dobro.py"
   ]
  },
  {
   "cell_type": "markdown",
   "id": "ce13e148-835a-4ca0-8245-94e8328e0ae4",
   "metadata": {},
   "source": [
    "# Problema\n",
    "\n",
    "Leia um número e imprima na tela o seu dobro se ele for menor do que 10. Se o número for de 10 até 20, imprima a sua metade. Em qualquer outro caso, imprima na tela que o número não é válido."
   ]
  },
  {
   "cell_type": "code",
   "execution_count": 3,
   "id": "2730a721-6b16-43e6-8590-bd7a8afb7683",
   "metadata": {},
   "outputs": [],
   "source": [
    "# Alocação de Memória\n",
    "\n",
    "a: float = 0"
   ]
  },
  {
   "cell_type": "code",
   "execution_count": 15,
   "id": "c6e884eb-629c-4bf8-83d3-b3f01de882d3",
   "metadata": {},
   "outputs": [
    {
     "name": "stdin",
     "output_type": "stream",
     "text": [
      "Digite um número 21\n"
     ]
    }
   ],
   "source": [
    "# Entrada de Dados\n",
    "\n",
    "a = float(input('Digite um número'))"
   ]
  },
  {
   "cell_type": "code",
   "execution_count": 16,
   "id": "20d394b7-8719-40ab-8e5e-74be37c7e567",
   "metadata": {},
   "outputs": [
    {
     "name": "stdout",
     "output_type": "stream",
     "text": [
      "Número não válido.\n"
     ]
    }
   ],
   "source": [
    "# Processamento de Dados e Saída de Dados\n",
    "\n",
    "if a < 10:\n",
    "    dobro = a*2\n",
    "    print(dobro)\n",
    "elif 10 <= a <= 20:\n",
    "    divide = a/2\n",
    "    print(divide)\n",
    "else:\n",
    "    print(\"Número não válido.\")"
   ]
  }
 ],
 "metadata": {
  "kernelspec": {
   "display_name": "Python 3 (ipykernel)",
   "language": "python",
   "name": "python3"
  },
  "language_info": {
   "codemirror_mode": {
    "name": "ipython",
    "version": 3
   },
   "file_extension": ".py",
   "mimetype": "text/x-python",
   "name": "python",
   "nbconvert_exporter": "python",
   "pygments_lexer": "ipython3",
   "version": "3.11.7"
  }
 },
 "nbformat": 4,
 "nbformat_minor": 5
}
