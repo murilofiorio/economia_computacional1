{
 "cells": [
  {
   "cell_type": "markdown",
   "id": "95ba2f63-8357-441e-a5b1-db02c18572a6",
   "metadata": {},
   "source": [
    "# Identificação de Números\n",
    "\n",
    "Executável: identif.py"
   ]
  },
  {
   "cell_type": "markdown",
   "id": "0642cdd2-866d-45cf-af43-91ac40c6d8a3",
   "metadata": {},
   "source": [
    "# Problema\n",
    "\n",
    "Leia um número e imprima na tela se ele é negativo, nulo ou positivo."
   ]
  },
  {
   "cell_type": "code",
   "execution_count": 2,
   "id": "3231bb72-9cf3-4f35-8249-68dc21c1422d",
   "metadata": {},
   "outputs": [],
   "source": [
    "# Alocação de Memória\n",
    "\n",
    "a: float = 0"
   ]
  },
  {
   "cell_type": "code",
   "execution_count": 5,
   "id": "c7ad49dd-ade9-4bc8-9fe1-0a62685588f4",
   "metadata": {},
   "outputs": [
    {
     "name": "stdin",
     "output_type": "stream",
     "text": [
      "Digite um número:  0\n"
     ]
    }
   ],
   "source": [
    "# Entrata de Dados\n",
    "\n",
    "a = float(input('Digite um número: '))"
   ]
  },
  {
   "cell_type": "code",
   "execution_count": 8,
   "id": "e8c4ada2-06c5-4b17-8496-92b031e1084e",
   "metadata": {},
   "outputs": [
    {
     "name": "stdout",
     "output_type": "stream",
     "text": [
      "0 é um número nulo.\n"
     ]
    }
   ],
   "source": [
    "# Processamento de Saída de Dados\n",
    "\n",
    "if a < 0:\n",
    "    print(f\"{a} é um número negativo.\")\n",
    "elif a == 0:\n",
    "    print(f\"{a:.0f} é um número nulo.\")\n",
    "else:\n",
    "    print(f\"{a} é um número positivo.\")"
   ]
  }
 ],
 "metadata": {
  "kernelspec": {
   "display_name": "Python 3 (ipykernel)",
   "language": "python",
   "name": "python3"
  },
  "language_info": {
   "codemirror_mode": {
    "name": "ipython",
    "version": 3
   },
   "file_extension": ".py",
   "mimetype": "text/x-python",
   "name": "python",
   "nbconvert_exporter": "python",
   "pygments_lexer": "ipython3",
   "version": "3.11.7"
  }
 },
 "nbformat": 4,
 "nbformat_minor": 5
}
