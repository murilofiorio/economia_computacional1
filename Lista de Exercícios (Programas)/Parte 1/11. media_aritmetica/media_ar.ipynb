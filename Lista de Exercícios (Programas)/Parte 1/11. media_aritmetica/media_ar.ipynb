{
 "cells": [
  {
   "cell_type": "markdown",
   "id": "480b01d3-28e0-403b-9e4d-a68008061b2e",
   "metadata": {},
   "source": [
    "# Média Aritmética\n",
    "\n",
    "Executável: media_arit.py"
   ]
  },
  {
   "cell_type": "markdown",
   "id": "ca8b9a56-f3d1-4e98-a7d2-37c9109cf495",
   "metadata": {},
   "source": [
    "# Problema\n",
    "\n",
    "Calcule a média aritmética de quatro números fornecidos pelo usuário."
   ]
  },
  {
   "cell_type": "code",
   "execution_count": 3,
   "id": "9e94e59f-2272-472c-b3c9-a7a4c8a9b389",
   "metadata": {},
   "outputs": [],
   "source": [
    "# Alocação de Memória\n",
    "\n",
    "a: float = 0\n",
    "b: float = 0\n",
    "c: float = 0\n",
    "d: float = 0\n",
    "media: float = 0"
   ]
  },
  {
   "cell_type": "code",
   "execution_count": 4,
   "id": "d0311598-7d5e-4ed0-9247-da7bf324dea5",
   "metadata": {},
   "outputs": [
    {
     "name": "stdin",
     "output_type": "stream",
     "text": [
      "Digite o primeiro número:  4\n",
      "Digite o segundo número:  5\n",
      "Digite o terceiro número:  4\n",
      "Digite o quarto número:  5\n"
     ]
    }
   ],
   "source": [
    "# Entrada de Dados\n",
    "\n",
    "a: float = float(input('Digite o primeiro número: '))\n",
    "b: float = float(input('Digite o segundo número: '))\n",
    "c: float = float(input('Digite o terceiro número: '))\n",
    "d: float = float(input('Digite o quarto número: '))"
   ]
  },
  {
   "cell_type": "code",
   "execution_count": 5,
   "id": "0937159b-6bda-4f27-8083-06e225ff5c59",
   "metadata": {},
   "outputs": [],
   "source": [
    "# Processamento de Dados\n",
    "\n",
    "media = (a + b + c + d)/4"
   ]
  },
  {
   "cell_type": "code",
   "execution_count": 6,
   "id": "c34ae148-97dc-4206-b1ec-e97c12a0cfa7",
   "metadata": {},
   "outputs": [
    {
     "name": "stdout",
     "output_type": "stream",
     "text": [
      "A média de 4.0, 5.0, 4.0 e 5.0 é igual a 4.5.\n"
     ]
    }
   ],
   "source": [
    "# Saída de Dados\n",
    "\n",
    "print(f\"A média de {a}, {b}, {c} e {d} é igual a {media}.\")"
   ]
  }
 ],
 "metadata": {
  "kernelspec": {
   "display_name": "Python 3 (ipykernel)",
   "language": "python",
   "name": "python3"
  },
  "language_info": {
   "codemirror_mode": {
    "name": "ipython",
    "version": 3
   },
   "file_extension": ".py",
   "mimetype": "text/x-python",
   "name": "python",
   "nbconvert_exporter": "python",
   "pygments_lexer": "ipython3",
   "version": "3.11.7"
  }
 },
 "nbformat": 4,
 "nbformat_minor": 5
}
