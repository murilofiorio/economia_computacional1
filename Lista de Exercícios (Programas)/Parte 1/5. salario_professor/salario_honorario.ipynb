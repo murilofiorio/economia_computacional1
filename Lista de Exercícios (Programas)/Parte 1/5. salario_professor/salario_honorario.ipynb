{
 "cells": [
  {
   "cell_type": "markdown",
   "id": "7cd3a224-7e52-42a7-9ce5-d7722b492f9f",
   "metadata": {},
   "source": [
    "# Projeto Salário Professor\n",
    "\n",
    "Executável: salario_honorario.py"
   ]
  },
  {
   "cell_type": "markdown",
   "id": "1a35a9fa-62ad-4e81-97cf-f085c3d2e380",
   "metadata": {},
   "source": [
    "## Problema\n",
    "\n",
    "Calcular o salário de um professor horista na Universidade XYZ. O programa deve perguntar o número de horas trabalhadas, calcular e imprimir na tela o valor do salário bruto, do salário líquido e do total de descontos, sabendo que o desconto do imposto é 30% e que o valor da hora-aula é R$ 40,00."
   ]
  },
  {
   "cell_type": "markdown",
   "id": "7253163e-9440-4be4-ac46-f3ab2bcdd6f0",
   "metadata": {},
   "source": [
    "## Projeto\n",
    "\n",
    "Calcularei o salário de um professor horista na Universidade XYZ. O programa deve perguntar o número de horas trabalhadas, calcular e imprimir na tela o valor do salário bruto, do salário líquido e do total de descontos, sabendo que o desconto do imposto é 30% e que o valor da hora-aula é R$ 40,00."
   ]
  },
  {
   "cell_type": "code",
   "execution_count": 24,
   "id": "7253c116-061d-4550-99dd-b663897cf196",
   "metadata": {},
   "outputs": [],
   "source": [
    "# Alocação de Memória\n",
    "\n",
    "salario_bruto: float = 0\n",
    "salario_liquido: float = 0\n",
    "horas_trabalhadas: float = 0\n",
    "total_desconto: float = 0\n",
    "imposto: float = 0.3\n",
    "valor_hora: int = 40"
   ]
  },
  {
   "cell_type": "code",
   "execution_count": 32,
   "id": "b93d7041-30fe-4fb0-a572-138160c0522b",
   "metadata": {},
   "outputs": [
    {
     "name": "stdin",
     "output_type": "stream",
     "text": [
      "Qual o número de horas trabalhadas? 40\n"
     ]
    }
   ],
   "source": [
    "# Entrada de Dados\n",
    "\n",
    "horas_trabalhadas: float = float(input('Qual o número de horas trabalhadas?'))"
   ]
  },
  {
   "cell_type": "code",
   "execution_count": 33,
   "id": "1f8f3604-61e4-4c65-9948-a7680999383d",
   "metadata": {},
   "outputs": [],
   "source": [
    "# Processamento de Dados\n",
    "\n",
    "salario_bruto: float = horas_trabalhadas*valor_hora\n",
    "total_desconto: float = salario_bruto*imposto\n",
    "salario_liquido: float = salario_bruto - total_desconto"
   ]
  },
  {
   "cell_type": "code",
   "execution_count": 38,
   "id": "6ebbc9a8-bfde-4fe4-8843-d7fe47b9f1d1",
   "metadata": {},
   "outputs": [
    {
     "name": "stdout",
     "output_type": "stream",
     "text": [
      "Salário bruto no valor de R$ 1600.00.\n",
      "Total de desconto no valor de RS 480.00.\n",
      "Salário líquido no valor de R$ 1120.00.\n"
     ]
    }
   ],
   "source": [
    "# Saída de Dados\n",
    "\n",
    "print(f\"Salário bruto no valor de R$ {salario_bruto:.2f}.\\nTotal de desconto no valor de RS {total_desconto:.2f}.\\nSalário líquido no valor de R$ {salario_liquido:.2f}.\")"
   ]
  }
 ],
 "metadata": {
  "kernelspec": {
   "display_name": "Python 3 (ipykernel)",
   "language": "python",
   "name": "python3"
  },
  "language_info": {
   "codemirror_mode": {
    "name": "ipython",
    "version": 3
   },
   "file_extension": ".py",
   "mimetype": "text/x-python",
   "name": "python",
   "nbconvert_exporter": "python",
   "pygments_lexer": "ipython3",
   "version": "3.11.7"
  }
 },
 "nbformat": 4,
 "nbformat_minor": 5
}
