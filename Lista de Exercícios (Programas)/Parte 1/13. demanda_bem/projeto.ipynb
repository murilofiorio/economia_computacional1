{
 "cells": [
  {
   "cell_type": "markdown",
   "id": "29e72211-948a-4fdc-85d7-921aafff722a",
   "metadata": {},
   "source": [
    "# Programa Cálculo da Demanda de um Bem\n",
    "\n",
    "Executável: demanda.py"
   ]
  },
  {
   "cell_type": "markdown",
   "id": "b278cf8a-0d62-4a6d-a455-67bf8b1c22a2",
   "metadata": {},
   "source": [
    "# Problema\n",
    "\n",
    "Dados a renda do consumidor e o preço de um bem, calcule a quantidade de demandada deste bem, sabendo que sua função de demanda é dada por q = renda/preço"
   ]
  },
  {
   "cell_type": "code",
   "execution_count": 8,
   "id": "e26c3d7d-9f68-48eb-aabc-6212fc8c6ff1",
   "metadata": {},
   "outputs": [],
   "source": [
    "# Alocação na Memória\n",
    "\n",
    "preco: float = 0\n",
    "renda: float = 0\n",
    "q: float = 0"
   ]
  },
  {
   "cell_type": "code",
   "execution_count": 10,
   "id": "88db50d6-a595-473d-a855-d2abc48f0dfa",
   "metadata": {},
   "outputs": [
    {
     "name": "stdin",
     "output_type": "stream",
     "text": [
      "Qual sua renda?  1000\n",
      "Qual o preço do bem?  3.5\n"
     ]
    }
   ],
   "source": [
    "# Entrada de Dados\n",
    "\n",
    "renda = float(input('Qual sua renda? '))\n",
    "preco = float(input('Qual o preço do bem? '))"
   ]
  },
  {
   "cell_type": "code",
   "execution_count": 11,
   "id": "4d25f0b4-afa4-4afb-b014-427b269b5691",
   "metadata": {},
   "outputs": [],
   "source": [
    "# Processamento de Dados\n",
    "\n",
    "q = renda/preco"
   ]
  },
  {
   "cell_type": "code",
   "execution_count": 19,
   "id": "a13fb869-2f1c-4bda-8951-12932f74231c",
   "metadata": {},
   "outputs": [
    {
     "name": "stdout",
     "output_type": "stream",
     "text": [
      "A demanda total pelo único bem em questão dada por um único consumidor é de 285.71 quantidades.\n"
     ]
    }
   ],
   "source": [
    "# Saída de Dados\n",
    "\n",
    "print(f\"A demanda total pelo único bem em questão dada por um único consumidor é de {q:.2f} quantidades.\")"
   ]
  }
 ],
 "metadata": {
  "kernelspec": {
   "display_name": "Python 3 (ipykernel)",
   "language": "python",
   "name": "python3"
  },
  "language_info": {
   "codemirror_mode": {
    "name": "ipython",
    "version": 3
   },
   "file_extension": ".py",
   "mimetype": "text/x-python",
   "name": "python",
   "nbconvert_exporter": "python",
   "pygments_lexer": "ipython3",
   "version": "3.11.7"
  }
 },
 "nbformat": 4,
 "nbformat_minor": 5
}
