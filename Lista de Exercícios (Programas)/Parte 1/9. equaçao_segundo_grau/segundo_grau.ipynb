{
 "cells": [
  {
   "cell_type": "markdown",
   "id": "986172e5-379c-48b0-91ca-463f92d9692d",
   "metadata": {},
   "source": [
    "# Equação Segundo Grau\n",
    "\n",
    "Executável: eq_seg.py\n",
    "\n",
    "Somente raízes reais."
   ]
  },
  {
   "cell_type": "markdown",
   "id": "ce2e6150-a83a-482b-be7d-763a2cd835b2",
   "metadata": {},
   "source": [
    "## Problema\n",
    "\n",
    "Resolva uma equação do segundo grau."
   ]
  },
  {
   "cell_type": "code",
   "execution_count": 10,
   "id": "8d780720-e17a-4092-8fce-34072c49cb2e",
   "metadata": {},
   "outputs": [],
   "source": [
    "# Alocação de Memória\n",
    "\n",
    "a: float = 0\n",
    "b: float = 0\n",
    "x: float = 0\n",
    "c: float = 0\n",
    "r_1: float = 0\n",
    "r_2: float = 0\n",
    "x_v: float = 0 # x do vértice\n",
    "y_v: float = 0 # y do vértice\n",
    "resultado: float = 0"
   ]
  },
  {
   "cell_type": "code",
   "execution_count": 45,
   "id": "5b8a0af4-68e0-48ad-8e19-796dfca2d40f",
   "metadata": {},
   "outputs": [
    {
     "name": "stdin",
     "output_type": "stream",
     "text": [
      "Digite o coeficiente angular de a*x^2:  6\n",
      "Digite o coeficiente angular de b*x:  5\n",
      "Digite o coeficiente linear c:  7\n",
      "Digite a variável x:  5\n"
     ]
    }
   ],
   "source": [
    "# Entrada de Dados\n",
    "\n",
    "a: float = float(input('Digite o coeficiente angular de a*x^2: '))\n",
    "b: float = float(input('Digite o coeficiente angular de b*x: '))\n",
    "c: float = float(input('Digite o coeficiente linear c: '))\n",
    "x: float = float(input('Digite a variável x: '))"
   ]
  },
  {
   "cell_type": "code",
   "execution_count": 46,
   "id": "8f7ad202-5cdd-4d3a-9a01-dff8828bfddc",
   "metadata": {},
   "outputs": [],
   "source": [
    "# Processamento de Dados\n",
    "\n",
    "r_1 = (-b - ((b**2 - 4*a*c)**(1/2))) / (2*a)\n",
    "r_2 = (-b + ((b**2 - 4*a*c)**(1/2))) / (2*a)\n",
    "x_v = (-b)/(2*a)\n",
    "y_v = -((b**2 - 4*a*c)/ (4*a))\n",
    "resultado = a*x**2+b*x+c"
   ]
  },
  {
   "cell_type": "code",
   "execution_count": 48,
   "id": "2a602595-8664-4819-9334-d4ec4b71e6cf",
   "metadata": {},
   "outputs": [
    {
     "ename": "ValueError",
     "evalue": "Zero padding is not allowed in complex format specifier",
     "output_type": "error",
     "traceback": [
      "\u001b[1;31m---------------------------------------------------------------------------\u001b[0m",
      "\u001b[1;31mValueError\u001b[0m                                Traceback (most recent call last)",
      "Cell \u001b[1;32mIn[48], line 3\u001b[0m\n\u001b[0;32m      1\u001b[0m \u001b[38;5;66;03m# Saída de Dados\u001b[39;00m\n\u001b[1;32m----> 3\u001b[0m \u001b[38;5;28mprint\u001b[39m(\u001b[38;5;124mf\u001b[39m\u001b[38;5;124m\"\u001b[39m\u001b[38;5;130;01m\\n\u001b[39;00m\u001b[38;5;124m1ª raiz: \u001b[39m\u001b[38;5;132;01m{\u001b[39;00mr_1\u001b[38;5;132;01m:\u001b[39;00m\u001b[38;5;124m0.2f\u001b[39m\u001b[38;5;132;01m}\u001b[39;00m\u001b[38;5;124m;\u001b[39m\u001b[38;5;130;01m\\n\u001b[39;00m\u001b[38;5;124m2ª raiz: \u001b[39m\u001b[38;5;132;01m{\u001b[39;00mr_2\u001b[38;5;132;01m:\u001b[39;00m\u001b[38;5;124m0.2f\u001b[39m\u001b[38;5;132;01m}\u001b[39;00m\u001b[38;5;124m.\u001b[39m\u001b[38;5;130;01m\\n\u001b[39;00m\u001b[38;5;130;01m\\n\u001b[39;00m\u001b[38;5;124mPonto máximo\u001b[39m\u001b[38;5;124m\\\u001b[39m\u001b[38;5;124mmínimo da função: (\u001b[39m\u001b[38;5;132;01m{\u001b[39;00mx_v\u001b[38;5;132;01m:\u001b[39;00m\u001b[38;5;124m0.2f\u001b[39m\u001b[38;5;132;01m}\u001b[39;00m\u001b[38;5;124m, \u001b[39m\u001b[38;5;132;01m{\u001b[39;00my_v\u001b[38;5;132;01m:\u001b[39;00m\u001b[38;5;124m0.2f\u001b[39m\u001b[38;5;132;01m}\u001b[39;00m\u001b[38;5;124m).\u001b[39m\u001b[38;5;130;01m\\n\u001b[39;00m\u001b[38;5;130;01m\\n\u001b[39;00m\u001b[38;5;124mResultao de f(\u001b[39m\u001b[38;5;132;01m{\u001b[39;00mx\u001b[38;5;132;01m}\u001b[39;00m\u001b[38;5;124m)= \u001b[39m\u001b[38;5;132;01m{\u001b[39;00ma\u001b[38;5;132;01m}\u001b[39;00m\u001b[38;5;132;01m{\u001b[39;00mx\u001b[38;5;132;01m}\u001b[39;00m\u001b[38;5;124m^2 + \u001b[39m\u001b[38;5;132;01m{\u001b[39;00mb\u001b[38;5;132;01m}\u001b[39;00m\u001b[38;5;132;01m{\u001b[39;00mx\u001b[38;5;132;01m}\u001b[39;00m\u001b[38;5;124m + \u001b[39m\u001b[38;5;132;01m{\u001b[39;00mc\u001b[38;5;132;01m}\u001b[39;00m\u001b[38;5;124m = \u001b[39m\u001b[38;5;132;01m{\u001b[39;00mresultado\u001b[38;5;132;01m:\u001b[39;00m\u001b[38;5;124m0.2f\u001b[39m\u001b[38;5;132;01m}\u001b[39;00m\u001b[38;5;130;01m\\n\u001b[39;00m\u001b[38;5;124m\"\u001b[39m)\n",
      "\u001b[1;31mValueError\u001b[0m: Zero padding is not allowed in complex format specifier"
     ]
    }
   ],
   "source": [
    "# Saída de Dados\n",
    "\n",
    "print(f\"\\n1ª raiz: {r_1:0.2f};\\n2ª raiz: {r_2:0.2f}.\\n\\nPonto máximo\\mínimo da função: ({x_v:0.2f}, {y_v:0.2f}).\\n\\nResultao de f({x})= {a}{x}^2 + {b}{x} + {c} = {resultado:0.2f}\\n\")"
   ]
  },
  {
   "cell_type": "code",
   "execution_count": null,
   "id": "48d51b1e-207f-47da-990a-f2871d1ba548",
   "metadata": {},
   "outputs": [],
   "source": []
  }
 ],
 "metadata": {
  "kernelspec": {
   "display_name": "Python 3 (ipykernel)",
   "language": "python",
   "name": "python3"
  },
  "language_info": {
   "codemirror_mode": {
    "name": "ipython",
    "version": 3
   },
   "file_extension": ".py",
   "mimetype": "text/x-python",
   "name": "python",
   "nbconvert_exporter": "python",
   "pygments_lexer": "ipython3",
   "version": "3.11.7"
  }
 },
 "nbformat": 4,
 "nbformat_minor": 5
}
