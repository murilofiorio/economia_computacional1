{
 "cells": [
  {
   "cell_type": "markdown",
   "id": "576d2801-8213-4615-92d9-07abdfb93813",
   "metadata": {},
   "source": [
    "# Programa Retorno Esperado\n",
    "\n",
    "Executável: ret_exp.py"
   ]
  },
  {
   "cell_type": "markdown",
   "id": "1487f18e-bccf-4948-be05-d2428f0c0292",
   "metadata": {},
   "source": [
    "## Problema \n",
    "\n",
    "Calcule o retorno esperado de um ativo, dado que o usuário informa o retorno do ativo sem risco ($R_f$), o retorno da carteira de mercado ($R_m$) e o coeficiente de sensibilidade do retorno do ativo a variações no prêmio de risco de mercado ($β_i$). Considere que a fórmula para calcular o retorno esperado de um ativo qualquer é dada por $E(R_i) = R_f + β_i*E[R_m − R_f]$."
   ]
  },
  {
   "cell_type": "code",
   "execution_count": 3,
   "id": "cb421dd9-c3cc-4ab8-96cf-b4308c4bc88b",
   "metadata": {},
   "outputs": [],
   "source": [
    "# Alocação de Memória\n",
    "\n",
    "exp_ret: float = 0\n",
    "r_f: float = 0\n",
    "r_m: float = 0\n",
    "b_i: float = 0"
   ]
  },
  {
   "cell_type": "code",
   "execution_count": 7,
   "id": "a95302e2-7847-4be0-88c4-666a248af348",
   "metadata": {},
   "outputs": [
    {
     "name": "stdin",
     "output_type": "stream",
     "text": [
      "Retorno do Ativo sem Risco:  12\n",
      "Retorno da Carteira de Mercado:  5\n",
      "Coeficiente de Sensibilidade:  9\n"
     ]
    }
   ],
   "source": [
    "# Entrada de Dados\n",
    "\n",
    "r_f: float = float(input('Retorno do Ativo sem Risco: '))\n",
    "r_m: float = float(input('Retorno da Carteira de Mercado: '))\n",
    "b_i: float = float(input('Coeficiente de Sensibilidade: '))"
   ]
  },
  {
   "cell_type": "code",
   "execution_count": 8,
   "id": "2fac2887-0d2a-4b69-a9fe-ee2e1366780c",
   "metadata": {},
   "outputs": [],
   "source": [
    "# Processamento de Dados\n",
    "\n",
    "exp_ret = r_f + b_i*((r_m - r_f))"
   ]
  },
  {
   "cell_type": "code",
   "execution_count": 9,
   "id": "0524fe6a-4238-49a8-a424-1d56ea170e9f",
   "metadata": {},
   "outputs": [
    {
     "name": "stdout",
     "output_type": "stream",
     "text": [
      "O retorno esperado para a empresa é -51.0.\n"
     ]
    }
   ],
   "source": [
    "# Saída de Dados\n",
    "\n",
    "print(f\"O retorno esperado para a empresa é {exp_ret}.\")"
   ]
  }
 ],
 "metadata": {
  "kernelspec": {
   "display_name": "Python 3 (ipykernel)",
   "language": "python",
   "name": "python3"
  },
  "language_info": {
   "codemirror_mode": {
    "name": "ipython",
    "version": 3
   },
   "file_extension": ".py",
   "mimetype": "text/x-python",
   "name": "python",
   "nbconvert_exporter": "python",
   "pygments_lexer": "ipython3",
   "version": "3.11.7"
  }
 },
 "nbformat": 4,
 "nbformat_minor": 5
}
