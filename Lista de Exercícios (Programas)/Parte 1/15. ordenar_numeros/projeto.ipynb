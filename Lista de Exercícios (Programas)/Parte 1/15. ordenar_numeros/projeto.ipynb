{
 "cells": [
  {
   "cell_type": "markdown",
   "id": "3c608c2b-57a0-4b84-b5b9-a81d0935d7e9",
   "metadata": {},
   "source": [
    "# Projeto Ordenação de Números\n",
    "\n",
    "Executável: ordenacao.py"
   ]
  },
  {
   "cell_type": "markdown",
   "id": "02ac1899-2527-4eb6-a1d7-ccd1a70e21d0",
   "metadata": {},
   "source": [
    "# Problema\n",
    "\n",
    "Desenvolver um programa que leia do teclado 3 valores reais e os imprima na tela em ordem crescente."
   ]
  },
  {
   "cell_type": "code",
   "execution_count": 6,
   "id": "fd6d6282-e784-4c35-861e-5f1f447e5413",
   "metadata": {},
   "outputs": [],
   "source": [
    "# Alocação de Memória\n",
    "\n",
    "num1: float = 0\n",
    "num2: float = 0\n",
    "num3: float = 0"
   ]
  },
  {
   "cell_type": "code",
   "execution_count": 8,
   "id": "3803d622-ef60-45bd-ade4-16007f4d7249",
   "metadata": {},
   "outputs": [
    {
     "name": "stdin",
     "output_type": "stream",
     "text": [
      "1º número: 8\n",
      "2º número: 7\n",
      "3º número: 7.5\n"
     ]
    }
   ],
   "source": [
    "# Entrada de Dados\n",
    "\n",
    "num1: float = float(input('1º número:'))\n",
    "num2: float = float(input('2º número:'))\n",
    "num3: float = float(input('3º número:'))"
   ]
  },
  {
   "cell_type": "code",
   "execution_count": 13,
   "id": "f1915fcc-fc57-4ab2-98a1-be688c859e78",
   "metadata": {},
   "outputs": [],
   "source": [
    "# Processamento de Dados\n",
    "\n",
    "\"\"\"\n",
    "ex: 1º número = 7; 2º número = 9; 3º número = 7,5\n",
    "então: 7 > 9 = False, portanto 1º número = 7 e 2º número = 9\n",
    "       9 > 7,5 = True, portanto 2º número = 7,5 e 3º número = 9\n",
    "       7 > 9 = False, portanto 1º número = 7 e 3º número = 9\n",
    "\n",
    "       1º número = 7, 2º número = 7,5 e 3º número = 9\n",
    "\"\"\"\n",
    "\n",
    "if num1 > num2:\n",
    "    num1, num2 = num2, num1 # associa num1 = num2, pois menor para o maior\n",
    "if num2 > num3:\n",
    "    num2, num3 = num3, num2\n",
    "if num1 > num3:\n",
    "    num1, num3 = num3, num1"
   ]
  },
  {
   "cell_type": "code",
   "execution_count": 14,
   "id": "f0675488-b6ce-4b33-9df1-0ea4ada8f358",
   "metadata": {},
   "outputs": [
    {
     "name": "stdout",
     "output_type": "stream",
     "text": [
      "Os números em ordem crescente são: 7.0, 7.5, 8.0.\n"
     ]
    }
   ],
   "source": [
    "# Saída de Dados\n",
    "\n",
    "print(f\"Os números em ordem crescente são: {num1}, {num2}, {num3}.\")"
   ]
  }
 ],
 "metadata": {
  "kernelspec": {
   "display_name": "Python 3 (ipykernel)",
   "language": "python",
   "name": "python3"
  },
  "language_info": {
   "codemirror_mode": {
    "name": "ipython",
    "version": 3
   },
   "file_extension": ".py",
   "mimetype": "text/x-python",
   "name": "python",
   "nbconvert_exporter": "python",
   "pygments_lexer": "ipython3",
   "version": "3.11.7"
  }
 },
 "nbformat": 4,
 "nbformat_minor": 5
}
