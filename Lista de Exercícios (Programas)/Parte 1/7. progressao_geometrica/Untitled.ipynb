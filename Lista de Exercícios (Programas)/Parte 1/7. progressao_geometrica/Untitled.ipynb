{
 "cells": [
  {
   "cell_type": "markdown",
   "id": "81644838-4f43-49e5-a4ad-3fe7f641678c",
   "metadata": {},
   "source": [
    "# Progressão Geométrica\n",
    "\n",
    "Executável: pg.py"
   ]
  },
  {
   "cell_type": "markdown",
   "id": "1c3a8343-4e9f-42dc-9f45-83b2d9847101",
   "metadata": {},
   "source": [
    "## Problema\n",
    "\n",
    "Determinar o n-ésimo termo e a soma dos termos de uma progressão aritmética onde n, primeiro termo e a razão são dados pelo usuário."
   ]
  },
  {
   "cell_type": "code",
   "execution_count": 10,
   "id": "54a3adb0-b5bf-499a-8d86-e7e405cddf1f",
   "metadata": {},
   "outputs": [],
   "source": [
    "# Alocação de Memória\n",
    "\n",
    "a_1: float = 0\n",
    "q: float = 0\n",
    "n: int = 0\n",
    "a_n: float = 0\n",
    "s_n: float = 0\n",
    "s_inf: float = 0"
   ]
  },
  {
   "cell_type": "code",
   "execution_count": 11,
   "id": "0c83130a-de9e-4fd3-95e0-f566f6aec4af",
   "metadata": {},
   "outputs": [
    {
     "name": "stdin",
     "output_type": "stream",
     "text": [
      "Digite o primeiro termo:  5\n",
      "Digite a razão:  -57.56\n",
      "Digite a quantidade de termos:  64\n"
     ]
    }
   ],
   "source": [
    "# Entrada de Dados\n",
    "\n",
    "a_1: float = float(input('Digite o primeiro termo: '))\n",
    "q: float = float(input('Digite a razão: '))\n",
    "n: int = int(input('Digite a quantidade de termos: '))"
   ]
  },
  {
   "cell_type": "code",
   "execution_count": 12,
   "id": "9877cf48-d779-4455-8b00-387df4a43483",
   "metadata": {},
   "outputs": [],
   "source": [
    "# Processamento de Dados\n",
    "\n",
    "a_n: float = a_1*(q**(n - 1))\n",
    "s_n: float = (a_1*((q**n)-1))//(q - 1)\n",
    "s_inf: float = a_1//(1 - q)"
   ]
  },
  {
   "cell_type": "code",
   "execution_count": 13,
   "id": "59dd51ae-4bb6-4fd9-8298-0f7befaf2758",
   "metadata": {},
   "outputs": [
    {
     "name": "stdout",
     "output_type": "stream",
     "text": [
      "O termo da posição 64 é -3.8599304195947924e+111.\n",
      "A soma de 64 termo é -3.794016307238324e+111.\n",
      "A soma de infinitos termos é 0.0.\n"
     ]
    }
   ],
   "source": [
    "# Saída de Dados\n",
    "\n",
    "print(f\"O termo da posição {n} é {a_n}.\\nA soma de {n} termo é {s_n}.\\nA soma de infinitos termos é {s_inf}.\")"
   ]
  }
 ],
 "metadata": {
  "kernelspec": {
   "display_name": "Python 3 (ipykernel)",
   "language": "python",
   "name": "python3"
  },
  "language_info": {
   "codemirror_mode": {
    "name": "ipython",
    "version": 3
   },
   "file_extension": ".py",
   "mimetype": "text/x-python",
   "name": "python",
   "nbconvert_exporter": "python",
   "pygments_lexer": "ipython3",
   "version": "3.11.7"
  }
 },
 "nbformat": 4,
 "nbformat_minor": 5
}
