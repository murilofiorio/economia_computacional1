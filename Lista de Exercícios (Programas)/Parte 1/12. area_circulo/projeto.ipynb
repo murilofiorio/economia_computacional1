{
 "cells": [
  {
   "cell_type": "markdown",
   "id": "32afe66b-7712-4d61-a879-37de54d5d6e4",
   "metadata": {},
   "source": [
    "# Programação Cálculo Área de Círuclo\n",
    "\n",
    "Executável: areacirc.py"
   ]
  },
  {
   "cell_type": "markdown",
   "id": "135e328c-191e-45ef-a88a-8d8baba4fa49",
   "metadata": {},
   "source": [
    "# Problema\n",
    "\n",
    "Calcule a área de um circulo e o comprimento de sua circunferência cujo raio será informado\n",
    "pelo usuário."
   ]
  },
  {
   "cell_type": "code",
   "execution_count": 1,
   "id": "147fef14-3b58-429b-beb9-0a6fcf9ef293",
   "metadata": {},
   "outputs": [],
   "source": [
    "# Alocação de Memória\n",
    "\n",
    "raio: float = 0\n",
    "area: float = 0"
   ]
  },
  {
   "cell_type": "code",
   "execution_count": 2,
   "id": "08faf468-1503-4507-a0d0-506eee6cfcc4",
   "metadata": {},
   "outputs": [
    {
     "name": "stdin",
     "output_type": "stream",
     "text": [
      "Raio:  3.45\n"
     ]
    }
   ],
   "source": [
    "# Entrada de Dados\n",
    "\n",
    "raio = float(input('Raio: '))"
   ]
  },
  {
   "cell_type": "code",
   "execution_count": 3,
   "id": "40dc59d8-4fe9-4138-a2d1-fc69a5ead74f",
   "metadata": {},
   "outputs": [],
   "source": [
    "# Processamento de Dados\n",
    "\n",
    "area = 3.14159*raio**2"
   ]
  },
  {
   "cell_type": "code",
   "execution_count": 5,
   "id": "cf0dd078-5037-4279-a45c-fa32690d0714",
   "metadata": {},
   "outputs": [
    {
     "name": "stdout",
     "output_type": "stream",
     "text": [
      "A área do círculo de raio 3.45 é de 37.39 unidades de área ao quadrado.\n"
     ]
    }
   ],
   "source": [
    "# Saída de Dados\n",
    "\n",
    "print(f\"A área do círculo de raio {raio} é de {area:.02f} unidades de área ao quadrado.\")"
   ]
  }
 ],
 "metadata": {
  "kernelspec": {
   "display_name": "Python 3 (ipykernel)",
   "language": "python",
   "name": "python3"
  },
  "language_info": {
   "codemirror_mode": {
    "name": "ipython",
    "version": 3
   },
   "file_extension": ".py",
   "mimetype": "text/x-python",
   "name": "python",
   "nbconvert_exporter": "python",
   "pygments_lexer": "ipython3",
   "version": "3.11.7"
  }
 },
 "nbformat": 4,
 "nbformat_minor": 5
}
