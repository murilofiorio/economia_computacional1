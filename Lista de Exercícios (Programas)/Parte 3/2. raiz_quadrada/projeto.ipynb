{
 "cells": [
  {
   "cell_type": "markdown",
   "id": "e8c86469-1978-4ddc-aed9-23a0e8f07024",
   "metadata": {},
   "source": [
    "# Raiz Quadrada\n",
    "\n",
    "Executável: raz.py"
   ]
  },
  {
   "cell_type": "markdown",
   "id": "89eee775-ad99-4847-8cf2-4705e8945b85",
   "metadata": {},
   "source": [
    "# Problema\n",
    "\n",
    "Determine a raiz quadrada de um número dado pelo usuário, sabendo que o algoritmo de para o cálculo da raiz quadrada do número $a$ é dado pela sequência:\n",
    "$$x_1 > 0$$,\n",
    "$$x_{n+1} = 1/2*(x_n + a/x_n)$$."
   ]
  },
  {
   "cell_type": "code",
   "execution_count": 17,
   "id": "c9a8cffd-a014-4d2b-9ddd-508728c192d4",
   "metadata": {},
   "outputs": [],
   "source": [
    "# Alocação de Memória\n",
    "\n",
    "a: float = 0\n",
    "x_n: float = 0\n",
    "raiz: float = 0"
   ]
  },
  {
   "cell_type": "code",
   "execution_count": 29,
   "id": "7256b747-b7d6-4249-bdaa-8e7677e4387d",
   "metadata": {},
   "outputs": [
    {
     "name": "stdin",
     "output_type": "stream",
     "text": [
      "Digite o número a ser calculado sua raiz quadrada:  4\n",
      "Digite uma estimativa iterativa para a raiz quadrada de 4.0:  0.5\n"
     ]
    }
   ],
   "source": [
    "# Entrada de Dados\n",
    "\n",
    "a = float(input('Digite o número a ser calculado sua raiz quadrada: '))\n",
    "x_n = float(input(f\"Digite uma estimativa iterativa para a raiz quadrada de {a}: \"))"
   ]
  },
  {
   "cell_type": "code",
   "execution_count": 30,
   "id": "6eba29d2-b35a-421d-9e8e-a1dc2043aa51",
   "metadata": {},
   "outputs": [],
   "source": [
    "# Processamento de Dados\n",
    "\n",
    "if a < 0:\n",
    "    print(\"Não existe raiz real de número negativos.\")\n",
    "\n",
    "else :\n",
    "    raiz = 1/2*(x_n + a / x_n)"
   ]
  },
  {
   "cell_type": "code",
   "execution_count": 31,
   "id": "a251f6d1-02bf-4146-b30b-01cdd5421318",
   "metadata": {},
   "outputs": [
    {
     "name": "stdout",
     "output_type": "stream",
     "text": [
      "Raiz quadrada aproximada de 4.0 igual a 4.25\n"
     ]
    }
   ],
   "source": [
    "# Saída de Dados\n",
    "\n",
    "print(f\"Raiz quadrada aproximada de {a} igual a {raiz}\")"
   ]
  },
  {
   "cell_type": "code",
   "execution_count": null,
   "id": "06fee302-c0f0-4a9c-8114-c410cdd024c0",
   "metadata": {},
   "outputs": [],
   "source": []
  }
 ],
 "metadata": {
  "kernelspec": {
   "display_name": "Python 3 (ipykernel)",
   "language": "python",
   "name": "python3"
  },
  "language_info": {
   "codemirror_mode": {
    "name": "ipython",
    "version": 3
   },
   "file_extension": ".py",
   "mimetype": "text/x-python",
   "name": "python",
   "nbconvert_exporter": "python",
   "pygments_lexer": "ipython3",
   "version": "3.11.7"
  }
 },
 "nbformat": 4,
 "nbformat_minor": 5
}
