{
 "cells": [
  {
   "cell_type": "markdown",
   "id": "7ca48db0-63da-40bd-90b3-8568f1023b05",
   "metadata": {},
   "source": [
    "# Polinômio de Grau $n$\n",
    "\n",
    "Executável: polinomio.py"
   ]
  },
  {
   "cell_type": "markdown",
   "id": "78647a32-c6d6-4e82-b9eb-e74403a67d7c",
   "metadata": {},
   "source": [
    "# Problema\n",
    "\n",
    "Calcule o valor de um polinômio de grau $n$ supondo que o usuário informou o grau do polinômio e os coeficientes na ordem da lista ordenada $a = (a_0, a_1, ..., a_{n−1}, a_n)$ onde $a_i$ representa o coeficiente do termo de grau $i$."
   ]
  },
  {
   "cell_type": "code",
   "execution_count": 40,
   "id": "6521c4ad-b970-4553-826b-25a3a8646a0c",
   "metadata": {},
   "outputs": [],
   "source": [
    "# Alocação de Memória\n",
    "\n",
    "coeficientes: list = []\n",
    "coeficiente: float = 0\n",
    "grau: int = 0\n",
    "resultado: float = 0\n",
    "x: float = 0"
   ]
  },
  {
   "cell_type": "code",
   "execution_count": 41,
   "id": "fd0ee367-1afe-4686-aa95-db12403614ce",
   "metadata": {},
   "outputs": [
    {
     "name": "stdin",
     "output_type": "stream",
     "text": [
      "Digite o grau no polinômio:  4\n",
      "Digite o coeficiente a_0 de a_0*x^0:  8\n",
      "Digite o coeficiente a_1 de a_1*x^1:  9\n",
      "Digite o coeficiente a_2 de a_2*x^2:  7\n",
      "Digite o coeficiente a_3 de a_3*x^3:  6\n",
      "Digite o coeficiente a_4 de a_4*x^4:  5\n",
      "Digite o valor de x:  4\n"
     ]
    }
   ],
   "source": [
    "# Entrada de Dados\n",
    "\n",
    "grau: int = int(input('Digite o grau no polinômio: '))\n",
    "\n",
    "\"\"\"\n",
    "'range' cria um intervalo (tupla) de 0 até n; \"+ 1\" pois, como python começa a contar do 0,\n",
    "se, p. ex., informado cinco, a range seria (0, 4), pois dentro deste intervalo, contém 5 elementos.\n",
    "Ou seja, seria grau a menos do que o informando.\n",
    "\"\"\"\n",
    "\n",
    "for i in range(grau + 1): \n",
    "    coeficiente = float(input(f\"Digite o coeficiente a_{i} de a_{i}*x^{i}: \"))\n",
    "    coeficientes.append(coeficiente)\n",
    "\n",
    "x = float(input(\"Digite o valor de x: \"))"
   ]
  },
  {
   "cell_type": "code",
   "execution_count": 46,
   "id": "663e29af-edfd-4626-aac6-bce8472a42d8",
   "metadata": {},
   "outputs": [],
   "source": [
    "# Processamento de Dados\n",
    "\n",
    "\"\"\"\n",
    "Em \"coeficientes[i], ele chamará o coeficientes a_i colocado pelo usuário na posição i e\n",
    "passará ao próximo.\n",
    "\"\"\"\n",
    "\n",
    "\n",
    "for i in range(grau + 1):\n",
    "    resultado = resultado + coeficientes[i] * (x**i) # chama o coeficiente i e multiplica por x^i e soma com o resultado, que, quando i=0, portanto, resultado igual a zero, porém vai se acumulando"
   ]
  },
  {
   "cell_type": "code",
   "execution_count": 44,
   "id": "d9a3d2cd-312a-4239-867a-9962837d7c90",
   "metadata": {},
   "outputs": [
    {
     "name": "stdout",
     "output_type": "stream",
     "text": [
      "O resultado é 1820.00\n"
     ]
    }
   ],
   "source": [
    "# Saída de Dados\n",
    "\n",
    "print(f\"O resultado é {resultado:.2f}\")"
   ]
  }
 ],
 "metadata": {
  "kernelspec": {
   "display_name": "Python 3 (ipykernel)",
   "language": "python",
   "name": "python3"
  },
  "language_info": {
   "codemirror_mode": {
    "name": "ipython",
    "version": 3
   },
   "file_extension": ".py",
   "mimetype": "text/x-python",
   "name": "python",
   "nbconvert_exporter": "python",
   "pygments_lexer": "ipython3",
   "version": "3.11.7"
  }
 },
 "nbformat": 4,
 "nbformat_minor": 5
}
