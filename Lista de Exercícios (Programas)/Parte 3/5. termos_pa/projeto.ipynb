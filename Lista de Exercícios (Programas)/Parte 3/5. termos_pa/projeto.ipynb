{
 "cells": [
  {
   "cell_type": "markdown",
   "id": "5261012f-a0d9-4f7a-bb9d-77f74ac7b6b3",
   "metadata": {},
   "source": [
    "# Impressão dos 10 Primeiro Termos de uma P.A\n",
    "\n",
    "Executável: 10paterms.py"
   ]
  },
  {
   "cell_type": "markdown",
   "id": "124c452c-351c-4b6b-a7d4-b466cb7fe04b",
   "metadata": {},
   "source": [
    "## Problema\n",
    "\n",
    "Imprima na tela os 10 primeiros termos de uma progressão aritmética cuja razão é dada pelo usuário."
   ]
  },
  {
   "cell_type": "code",
   "execution_count": 24,
   "id": "7863d9d0-aaba-4b4c-a3da-a364a076fb93",
   "metadata": {},
   "outputs": [],
   "source": [
    "# Alocação de Memória\n",
    "\n",
    "termos: list = []\n",
    "a_i: float = 0 # cada termo que entrará na lista\n",
    "r: float = 0 #razão\n",
    "n: int = 0 # número de termos\n",
    "a_1: float = 0 # primeiro termo"
   ]
  },
  {
   "cell_type": "code",
   "execution_count": 25,
   "id": "6dd7402e-69d9-42f7-9d8f-7daaa5983aeb",
   "metadata": {},
   "outputs": [
    {
     "name": "stdin",
     "output_type": "stream",
     "text": [
      "Qual o número de termos? 10\n",
      "Qual a razão? 3.7\n",
      "Qual o primeiro termo?  3.36\n"
     ]
    }
   ],
   "source": [
    "# Entrada de Dados\n",
    "\n",
    "n: int = int(input('Qual o número de termos?'))\n",
    "r: float = float(input('Qual a razão?'))\n",
    "a_1 = float(input(\"Qual o primeiro termo? \"))"
   ]
  },
  {
   "cell_type": "code",
   "execution_count": 26,
   "id": "2af59d8e-750b-42eb-b4f6-fb9017a5d645",
   "metadata": {},
   "outputs": [],
   "source": [
    "# Processamento de Dados\n",
    "\n",
    "for i in range(1, n + 1): # se começasse em 0, então daria errado a fórmula\n",
    "    a_i = a_1 + (i - 1)*r\n",
    "    termos.append(a_i)"
   ]
  },
  {
   "cell_type": "code",
   "execution_count": 29,
   "id": "29dd5f96-0bb3-4d1b-9e20-0170ccde7080",
   "metadata": {},
   "outputs": [
    {
     "name": "stdout",
     "output_type": "stream",
     "text": [
      "[3.36, 7.0600000000000005, 10.76, 14.46, 18.16, 21.86, 25.560000000000002, 29.26, 32.96, 36.660000000000004]\n"
     ]
    }
   ],
   "source": [
    "# Saída de Dados\n",
    "\n",
    "print(termos)"
   ]
  }
 ],
 "metadata": {
  "kernelspec": {
   "display_name": "Python 3 (ipykernel)",
   "language": "python",
   "name": "python3"
  },
  "language_info": {
   "codemirror_mode": {
    "name": "ipython",
    "version": 3
   },
   "file_extension": ".py",
   "mimetype": "text/x-python",
   "name": "python",
   "nbconvert_exporter": "python",
   "pygments_lexer": "ipython3",
   "version": "3.11.7"
  }
 },
 "nbformat": 4,
 "nbformat_minor": 5
}
