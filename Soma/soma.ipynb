{
 "cells": [
  {
   "cell_type": "markdown",
   "id": "c39ac851-19b7-40b2-87e3-1f86aa6d0543",
   "metadata": {},
   "source": [
    "# Codificação do Programa Soma\n",
    "\n",
    "## Requisitos\n",
    "\n",
    "O problema em questão é desenvolver um programa que leia dois números inteiros digitados pelo usuário e ponha na tela a soma deles."
   ]
  },
  {
   "cell_type": "code",
   "execution_count": 4,
   "id": "43b122e6-ebb1-4dc9-93f2-d091d26c6976",
   "metadata": {},
   "outputs": [
    {
     "name": "stdin",
     "output_type": "stream",
     "text": [
      "Primeiro Número: 2\n",
      "Segundo Número: 6\n"
     ]
    },
    {
     "name": "stdout",
     "output_type": "stream",
     "text": [
      "8\n"
     ]
    }
   ],
   "source": [
    "# Alocação de Memória\n",
    "\n",
    "numero_1: int = 0\n",
    "\n",
    "numero_2: int = 0\n",
    "\n",
    "soma: int = 0\n",
    "\n",
    "# Entrada de Dados\n",
    "\n",
    "numero_1 = int(input(\"Primeiro Número:\"))\n",
    "\n",
    "numero_2 = int(input(\"Segundo Número:\"))\n",
    "\n",
    "# Processamento de Dados\n",
    "\n",
    "soma = numero_1 + numero_2\n",
    "\n",
    "# Saída de Dados\n",
    "\n",
    "print(soma)"
   ]
  },
  {
   "cell_type": "code",
   "execution_count": 5,
   "id": "7be7839f-9446-4622-b2c1-1cf393f3e35a",
   "metadata": {},
   "outputs": [
    {
     "name": "stdin",
     "output_type": "stream",
     "text": [
      "Digite a parcela 1: 5\n",
      "Digite a parcela 2: 6\n"
     ]
    },
    {
     "name": "stdout",
     "output_type": "stream",
     "text": [
      "A soma dos números digitados é igual a 11.\n"
     ]
    }
   ],
   "source": [
    "\"\"\"\n",
    "Programa Soma\n",
    "Descrição: este programa lê doi números inteiros digitados pelo usuário e põe na tela a soma deles.\n",
    "Autor: Murilo Fiorio\n",
    "Data: 12/04/2024\n",
    "Versão: 0.0.1\n",
    "\"\"\"\n",
    "\n",
    "# Alocação de Memória\n",
    "\n",
    "i: int = 0\n",
    "\n",
    "numero: int = 0\n",
    "\n",
    "soma: int = 0\n",
    "\n",
    "# Entrada de Dados e Processamento de Dados\n",
    "\n",
    "while i < 2:\n",
    "    numero = int(input(f\"Digite a parcela {i+1}:\"))\n",
    "    soma = soma + numero\n",
    "    i += 1\n",
    "\n",
    "# Saída de Dados\n",
    "\n",
    "print(f\"A soma dos números digitados é igual a {soma}.\")"
   ]
  },
  {
   "cell_type": "code",
   "execution_count": null,
   "id": "f9c11ec1-cd5b-432b-8436-0f9f71e1a589",
   "metadata": {},
   "outputs": [],
   "source": []
  }
 ],
 "metadata": {
  "kernelspec": {
   "display_name": "Python 3 (ipykernel)",
   "language": "python",
   "name": "python3"
  },
  "language_info": {
   "codemirror_mode": {
    "name": "ipython",
    "version": 3
   },
   "file_extension": ".py",
   "mimetype": "text/x-python",
   "name": "python",
   "nbconvert_exporter": "python",
   "pygments_lexer": "ipython3",
   "version": "3.11.7"
  }
 },
 "nbformat": 4,
 "nbformat_minor": 5
}
