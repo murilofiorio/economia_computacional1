{
 "cells": [
  {
   "cell_type": "markdown",
   "id": "c8cc6231-ef6d-49ef-ab61-bf057f78149c",
   "metadata": {},
   "source": [
    "# Múltíplos de 3\n",
    "\n",
    "Executável: multiplo3.py"
   ]
  },
  {
   "cell_type": "markdown",
   "id": "09aa7e0f-9862-4eab-aafb-6b25e0e85b3d",
   "metadata": {},
   "source": [
    "# Problema\n",
    "\n",
    "Leia um número, determine se ele é múltiplo de 3 e imprima na tela a mensagem \"Este número é múltiplo de 3\" ou \"Este número não é múltiplo de 3\" a depender do caso."
   ]
  },
  {
   "cell_type": "code",
   "execution_count": 1,
   "id": "c10f0da8-4010-4db0-b0d6-62819ad40d0c",
   "metadata": {},
   "outputs": [],
   "source": [
    "# Alocação de Memória\n",
    "\n",
    "a: float = 0"
   ]
  },
  {
   "cell_type": "code",
   "execution_count": 6,
   "id": "c22f9d70-df5e-472b-a167-8b8e546c628f",
   "metadata": {},
   "outputs": [
    {
     "name": "stdin",
     "output_type": "stream",
     "text": [
      "Digite um número:  9\n"
     ]
    }
   ],
   "source": [
    "# Entrada de Dados\n",
    "\n",
    "a = float(input('Digite um número: '))"
   ]
  },
  {
   "cell_type": "code",
   "execution_count": 7,
   "id": "31367f6c-a1f5-44ea-b57a-5d838c5474c5",
   "metadata": {},
   "outputs": [
    {
     "name": "stdout",
     "output_type": "stream",
     "text": [
      "Este número é múltiplo de 3\n"
     ]
    }
   ],
   "source": [
    "# Processamento e Saída de Dados\n",
    "\n",
    "if a % 3 == 0:\n",
    "    print(\"Este número é múltiplo de 3\")\n",
    "\n",
    "else :\n",
    "    print(\"Este número não é múltiplo de 3\")"
   ]
  }
 ],
 "metadata": {
  "kernelspec": {
   "display_name": "Python 3 (ipykernel)",
   "language": "python",
   "name": "python3"
  },
  "language_info": {
   "codemirror_mode": {
    "name": "ipython",
    "version": 3
   },
   "file_extension": ".py",
   "mimetype": "text/x-python",
   "name": "python",
   "nbconvert_exporter": "python",
   "pygments_lexer": "ipython3",
   "version": "3.11.7"
  }
 },
 "nbformat": 4,
 "nbformat_minor": 5
}
