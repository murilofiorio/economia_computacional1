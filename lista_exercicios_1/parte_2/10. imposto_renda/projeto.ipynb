{
 "cells": [
  {
   "cell_type": "markdown",
   "id": "53202177-f29f-4416-b8e0-6dd636267f25",
   "metadata": {},
   "source": [
    "# Programa Imposto de Renda\n",
    "\n",
    "Executável: imposto.py"
   ]
  },
  {
   "cell_type": "markdown",
   "id": "ab8fe3fc-fbfd-4776-be62-bc6a1207fa8d",
   "metadata": {},
   "source": [
    "# Problema\n",
    "\n",
    "Dado o número de horas trabalhadas por um empregado de uma empresa que paga R$20,00 por hora trabalhada e desconta imposto de renda (ir) segundo a tabela abaixo, determine o salário líquido do empregado.\n",
    "\n",
    "Salário bruto\n",
    "\n",
    "(a) Menor que ou igual a 1000,00 \\\n",
    "(b) Maior que 1000,00 at´e 2500,00 \\ \n",
    "(c) Maior que 2500,00 at´e 5000,00 \\\n",
    "(d) Maior que 5000,00 \n",
    "\n",
    "Alíquota de IR\n",
    "\n",
    "(a) 0 \\\n",
    "(b) 10% \\\n",
    "(c) 20% \\\n",
    "(c) 35%"
   ]
  },
  {
   "cell_type": "code",
   "execution_count": 8,
   "id": "95e8ab18-0f65-4c21-abc3-35ffb192b5b7",
   "metadata": {},
   "outputs": [],
   "source": [
    "# Alocação de Memória\n",
    "\n",
    "salario: float = 0\n",
    "horas: float = 0\n",
    "imposto: float = 0"
   ]
  },
  {
   "cell_type": "code",
   "execution_count": 9,
   "id": "1361ec8c-156c-4904-9edc-732173d720b0",
   "metadata": {},
   "outputs": [
    {
     "name": "stdin",
     "output_type": "stream",
     "text": [
      "Quantidade de horas trabalhadas:  160\n"
     ]
    }
   ],
   "source": [
    "# Entrada de Dados\n",
    "\n",
    "horas = float(input(\"Quantidade de horas trabalhadas: \"))"
   ]
  },
  {
   "cell_type": "code",
   "execution_count": 12,
   "id": "bdc8f0b4-420a-4146-ae05-8a3be8e12c37",
   "metadata": {},
   "outputs": [
    {
     "name": "stdout",
     "output_type": "stream",
     "text": [
      " Salário líquido no valor de R$2560.00.\n"
     ]
    }
   ],
   "source": [
    "# Processamento e Saída de Dados\n",
    "\n",
    "\n",
    "salario = 20*horas\n",
    "\n",
    "if salario <= 1000:\n",
    "    imposto = salario*0\n",
    "    salario = salario - imposto\n",
    "    print(f\" Salário líquido no valor de R${salario:.2f}.\")\n",
    "\n",
    "elif 1000 < salario <= 2500:\n",
    "    imposto = salario_*0.1\n",
    "    salario = salario - imposto\n",
    "    print(f\" Salário líquido no valor de R${salario:.2f}.\")\n",
    "\n",
    "elif 2500 < salario <= 5000:\n",
    "    imposto = salario*0.2\n",
    "    salario = salario - imposto\n",
    "    print(f\" Salário líquido no valor de R${salario:.2f}.\")\n",
    "\n",
    "elif salario >= 5000:\n",
    "    imposto = salario*0.35\n",
    "    salario = salario - imposto\n",
    "    print(f\" Salário líquido no valor de R${salario:.2f}.\")\n",
    "\n",
    "else :\n",
    "    print(\"Valores errados informados.\")"
   ]
  }
 ],
 "metadata": {
  "kernelspec": {
   "display_name": "Python 3 (ipykernel)",
   "language": "python",
   "name": "python3"
  },
  "language_info": {
   "codemirror_mode": {
    "name": "ipython",
    "version": 3
   },
   "file_extension": ".py",
   "mimetype": "text/x-python",
   "name": "python",
   "nbconvert_exporter": "python",
   "pygments_lexer": "ipython3",
   "version": "3.11.7"
  }
 },
 "nbformat": 4,
 "nbformat_minor": 5
}
