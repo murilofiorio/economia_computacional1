{
 "cells": [
  {
   "cell_type": "markdown",
   "id": "2b7859ae-3a37-4112-afb5-d1184bf5a3d7",
   "metadata": {},
   "source": [
    "# Programa Desempenho Aluno\n",
    "\n",
    "Executável: desempenho.py"
   ]
  },
  {
   "cell_type": "markdown",
   "id": "d31a71be-45a8-4634-828b-1621d90056a5",
   "metadata": {},
   "source": [
    "# Problema\n",
    "\n",
    "Solicite as notas de um aluno nas avaliações previstas no plano de ensino desta disciplina, calcule a sua média e informe se o aluno está aprovado ou reprovado com base nas notas obtidas, incluindo a recuperação. Use este programa para avaliar seu próprio desempenho na disciplina."
   ]
  },
  {
   "cell_type": "code",
   "execution_count": 4,
   "id": "16fd3d41-15e6-4916-b628-48943e8c9ad6",
   "metadata": {},
   "outputs": [],
   "source": [
    "# Alocação de Memória\n",
    "\n",
    "\n",
    "\n",
    "x: float = 0\n",
    "y: float = 0\n",
    "z: float = 0\n",
    "media: float = 0"
   ]
  },
  {
   "cell_type": "code",
   "execution_count": 11,
   "id": "66588526-cc0d-41b2-b154-4323fb5da111",
   "metadata": {},
   "outputs": [
    {
     "name": "stdin",
     "output_type": "stream",
     "text": [
      "1ª nota (de 0 a 10):  1\n",
      "2ª nota (de 0 a 10):  10\n",
      "3ª nota (de 0 a 10):  10\n"
     ]
    }
   ],
   "source": [
    "# Entrada de Dados\n",
    "\n",
    "x: float = float(input(\"1ª nota (de 0 a 10): \"))\n",
    "y: float = float(input(\"2ª nota (de 0 a 10): \"))\n",
    "z: float = float(input(\"3ª nota (de 0 a 10): \"))"
   ]
  },
  {
   "cell_type": "code",
   "execution_count": 13,
   "id": "434f9459-970d-44c9-830c-07c63df3325f",
   "metadata": {},
   "outputs": [
    {
     "name": "stdout",
     "output_type": "stream",
     "text": [
      "Com média 7.0, o aluno está aprovado.\n"
     ]
    }
   ],
   "source": [
    "# Processamento e Saída de Dados\n",
    "\n",
    "media = (x + y + z)/ 3\n",
    "\n",
    "if 0 < media < 5:\n",
    "    print(f\"Com média {media}, o aluno está reprovado.\")\n",
    "elif 5 <= media < 6:\n",
    "    print(f\"Com média {media}, o aluno está em recuperação.\")\n",
    "elif 6 < media <= 10:\n",
    "    print(f\"Com média {media}, o aluno está aprovado.\")\n",
    "else:\n",
    "    print(f\"Números para a média informados errados.\")"
   ]
  }
 ],
 "metadata": {
  "kernelspec": {
   "display_name": "Python 3 (ipykernel)",
   "language": "python",
   "name": "python3"
  },
  "language_info": {
   "codemirror_mode": {
    "name": "ipython",
    "version": 3
   },
   "file_extension": ".py",
   "mimetype": "text/x-python",
   "name": "python",
   "nbconvert_exporter": "python",
   "pygments_lexer": "ipython3",
   "version": "3.11.7"
  }
 },
 "nbformat": 4,
 "nbformat_minor": 5
}
