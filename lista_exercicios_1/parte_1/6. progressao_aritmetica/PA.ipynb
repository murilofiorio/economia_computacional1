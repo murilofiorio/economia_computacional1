{
 "cells": [
  {
   "cell_type": "markdown",
   "id": "cddf0643-fc04-4f71-8092-a081f474ba92",
   "metadata": {},
   "source": [
    "# Programa Progressão Aritmética\n",
    "\n",
    "Executável: PA.py"
   ]
  },
  {
   "cell_type": "markdown",
   "id": "ed1f7c40-b561-497d-b962-9b6e237026f3",
   "metadata": {},
   "source": [
    "## Problema\n",
    "\n",
    "Determinar o n-ésimo termo e a soma dos termos de uma progressão aritmética onde n, primeiro termo e a razão são dados pelo usuário."
   ]
  },
  {
   "cell_type": "markdown",
   "id": "a1389997-130d-4501-9b16-b3484549df81",
   "metadata": {},
   "source": [
    "#Projeto\n",
    "\n",
    "Determinarei o n-ésimo termo e a soma dos termos de uma progressão aritmética onde n, primeiro termo e a razão são dados pelo usuário."
   ]
  },
  {
   "cell_type": "code",
   "execution_count": 43,
   "id": "445bde6d-ea8c-44b1-896f-9711a6911423",
   "metadata": {},
   "outputs": [],
   "source": [
    "# Alocação de Memória\n",
    "\n",
    "r: float = 0 #razão\n",
    "n: int = 0 # número de termos\n",
    "a_1: float = 0 # primeiro termo\n",
    "a_n: float = 0 # n-ésimo termo\n",
    "s_n: float = 0 # soma de n-ésimos termos"
   ]
  },
  {
   "cell_type": "code",
   "execution_count": 44,
   "id": "a0eef214-00e6-44a7-a469-0c0a7e39eb8f",
   "metadata": {},
   "outputs": [
    {
     "name": "stdin",
     "output_type": "stream",
     "text": [
      "Qual o primeiro termo? 8.5\n",
      "Qual o número de termos? 26\n",
      "Qual a razão? 6.2\n"
     ]
    }
   ],
   "source": [
    "# Entrada de Dados\n",
    "\n",
    "a_1: float = float(input('Qual o primeiro termo?'))\n",
    "n: int = int(input('Qual o número de termos?'))\n",
    "r: float = float(input('Qual a razão?'))"
   ]
  },
  {
   "cell_type": "code",
   "execution_count": 45,
   "id": "5faf52b1-0eb6-4b20-8768-db07bd6bcf52",
   "metadata": {},
   "outputs": [],
   "source": [
    "# Processamento de Dados\n",
    "\n",
    "a_n: float = a_1 + (n - 1)*r\n",
    "s_n: float = ((a_1 + a_n)//2)*n"
   ]
  },
  {
   "cell_type": "code",
   "execution_count": 46,
   "id": "6ed469fc-e22b-438c-be67-91d9380f269c",
   "metadata": {},
   "outputs": [
    {
     "name": "stdout",
     "output_type": "stream",
     "text": [
      "O termo contido na 26ª posição é 163.5.\n",
      "A soma dos 26 termos é 2236.0\n"
     ]
    }
   ],
   "source": [
    "# Saída de Dados\n",
    "\n",
    "print(f\"O termo contido na {n}ª posição é {a_n}.\\nA soma dos {n} termos é {s_n}\")"
   ]
  }
 ],
 "metadata": {
  "kernelspec": {
   "display_name": "Python 3 (ipykernel)",
   "language": "python",
   "name": "python3"
  },
  "language_info": {
   "codemirror_mode": {
    "name": "ipython",
    "version": 3
   },
   "file_extension": ".py",
   "mimetype": "text/x-python",
   "name": "python",
   "nbconvert_exporter": "python",
   "pygments_lexer": "ipython3",
   "version": "3.11.7"
  }
 },
 "nbformat": 4,
 "nbformat_minor": 5
}
