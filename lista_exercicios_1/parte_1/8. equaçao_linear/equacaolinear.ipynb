{
 "cells": [
  {
   "cell_type": "markdown",
   "id": "af7858d6-abca-4c47-a229-513880eb7935",
   "metadata": {},
   "source": [
    "# Equação Linear\n",
    "\n",
    "Executável: eq_lin.py"
   ]
  },
  {
   "cell_type": "markdown",
   "id": "a15c5fd8-ec25-466c-82b7-a8f13bba6755",
   "metadata": {},
   "source": [
    "## Problema\n",
    "\n",
    "Resolva a equaçãao linear a.x = b"
   ]
  },
  {
   "cell_type": "code",
   "execution_count": 4,
   "id": "bdce878e-b2ef-47ac-bcb2-dcea0d506de3",
   "metadata": {},
   "outputs": [],
   "source": [
    "# Alocação de Memória\n",
    "\n",
    "a: float = 0\n",
    "x: float = 0\n",
    "b: float = 0"
   ]
  },
  {
   "cell_type": "code",
   "execution_count": 7,
   "id": "123a8135-9d41-44bf-8863-4678fe62e1b4",
   "metadata": {},
   "outputs": [
    {
     "name": "stdin",
     "output_type": "stream",
     "text": [
      "Digite o coeficiente angular:  6\n",
      "Digite a variável x:  5\n"
     ]
    }
   ],
   "source": [
    "# Entrada de Dados, Processamento de Dados e Saída de Dados\n",
    "\n",
    "a: float = float(input('Digite o coeficiente angular: '))\n",
    "x: float = float(input('Digite a variável x: '))"
   ]
  },
  {
   "cell_type": "code",
   "execution_count": 10,
   "id": "31360fdf-1d58-4a46-94c6-fed2a0807013",
   "metadata": {},
   "outputs": [],
   "source": [
    "# Processamento de Dados\n",
    "\n",
    "b: float = a*x"
   ]
  },
  {
   "cell_type": "code",
   "execution_count": 12,
   "id": "c35a5be0-7e70-4d2e-82a9-f385fdca902b",
   "metadata": {},
   "outputs": [
    {
     "name": "stdout",
     "output_type": "stream",
     "text": [
      "O resultado é 30.0.\n"
     ]
    }
   ],
   "source": [
    "# Saída de Dados\n",
    "\n",
    "print(f\"O resultado é {b}.\")"
   ]
  }
 ],
 "metadata": {
  "kernelspec": {
   "display_name": "Python 3 (ipykernel)",
   "language": "python",
   "name": "python3"
  },
  "language_info": {
   "codemirror_mode": {
    "name": "ipython",
    "version": 3
   },
   "file_extension": ".py",
   "mimetype": "text/x-python",
   "name": "python",
   "nbconvert_exporter": "python",
   "pygments_lexer": "ipython3",
   "version": "3.11.7"
  }
 },
 "nbformat": 4,
 "nbformat_minor": 5
}
