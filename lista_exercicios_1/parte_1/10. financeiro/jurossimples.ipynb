{
 "cells": [
  {
   "cell_type": "markdown",
   "id": "33931fe1-6e2f-471b-94ed-4dd04507ff23",
   "metadata": {},
   "source": [
    "# Programa Juros Simples\n",
    "\n",
    "Executável: simples.py"
   ]
  },
  {
   "cell_type": "markdown",
   "id": "0e04ae83-55ea-46e8-aff6-e265be9738b5",
   "metadata": {},
   "source": [
    "## Problema\n",
    "\n",
    "Solicitar o valor de um capital, o prazo de investimento, a taxa de juros, calcule e imprima na tela o valor capitalizado.\n",
    "\n",
    "Desenvolver esse programa para conjuntamente com composto, realizando operações com a taxas etc."
   ]
  },
  {
   "cell_type": "code",
   "execution_count": 63,
   "id": "fb62d677-fc4f-4707-a4ed-97bda71b46e5",
   "metadata": {},
   "outputs": [],
   "source": [
    "# Alocação de Memória\n",
    "\n",
    "principal: float = 0\n",
    "prazo: int = 0\n",
    "taxa_juros: int = 0\n",
    "capitalizacao: int = 0"
   ]
  },
  {
   "cell_type": "code",
   "execution_count": 64,
   "id": "385b9973-e418-46fa-ba7e-1a4930d77347",
   "metadata": {},
   "outputs": [
    {
     "name": "stdin",
     "output_type": "stream",
     "text": [
      "Prazo em anos: 5\n",
      "Valor inicial:  10000\n",
      "Taxa de juros anual (%):  12\n"
     ]
    }
   ],
   "source": [
    "# Entrada de Dados\n",
    "\n",
    "prazo = float(input('Prazo em anos:'))\n",
    "principal = float(input('Valor inicial: '))\n",
    "taxa_juros = float(input('Taxa de juros anual (%): '))"
   ]
  },
  {
   "cell_type": "code",
   "execution_count": 65,
   "id": "3ef1322c-baee-494a-801a-00732f417d2b",
   "metadata": {},
   "outputs": [],
   "source": [
    "# Processamento de Dados\n",
    "\n",
    "taxa_juros = taxa_juros/100\n",
    "\n",
    "capitalizacao = principal*(1 + taxa_juros*prazo)"
   ]
  },
  {
   "cell_type": "code",
   "execution_count": 67,
   "id": "c5f1ab0d-0935-47d5-9b13-25e03cc47f57",
   "metadata": {},
   "outputs": [
    {
     "name": "stdout",
     "output_type": "stream",
     "text": [
      "O valor capiralizado após 5.0 anos sob a taxa de 12.0% é de R$16000.00.\n"
     ]
    }
   ],
   "source": [
    "# Saída de Dados\n",
    "\n",
    "print(f\"O valor capiralizado após {prazo} anos sob a taxa de {taxa_juros*100}% é de R${capitalizacao:0.2f}.\")"
   ]
  }
 ],
 "metadata": {
  "kernelspec": {
   "display_name": "Python 3 (ipykernel)",
   "language": "python",
   "name": "python3"
  },
  "language_info": {
   "codemirror_mode": {
    "name": "ipython",
    "version": 3
   },
   "file_extension": ".py",
   "mimetype": "text/x-python",
   "name": "python",
   "nbconvert_exporter": "python",
   "pygments_lexer": "ipython3",
   "version": "3.11.7"
  }
 },
 "nbformat": 4,
 "nbformat_minor": 5
}
