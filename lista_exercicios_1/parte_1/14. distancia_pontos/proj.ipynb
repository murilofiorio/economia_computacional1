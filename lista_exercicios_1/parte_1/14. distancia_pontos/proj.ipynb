{
 "cells": [
  {
   "cell_type": "markdown",
   "id": "fdea8a25-86d5-4724-a7e4-ac6712c2563d",
   "metadata": {},
   "source": [
    "# Programa istância de Dois Ponto\n",
    "\n",
    "Executável: distancia.py"
   ]
  },
  {
   "cell_type": "markdown",
   "id": "f2f23991-8957-4ce5-80da-754346ce569d",
   "metadata": {},
   "source": [
    "# Problema\n",
    "\n",
    "Calcule a distância entre dois pontos de coordenadas, respectivamente, (x1, x2) e (x1, x2). Tais coordenadas devem ser lidas do teclado. Use a f´rrmula da distância euclideana entre dois pontos."
   ]
  },
  {
   "cell_type": "code",
   "execution_count": 2,
   "id": "b26d2b3b-3f12-420c-8ff8-92c6fa2ac85d",
   "metadata": {},
   "outputs": [],
   "source": [
    "# Alocação de Memória\n",
    "\n",
    "x_1: float = 0\n",
    "x_2: float = 0\n",
    "y_1: float = 0\n",
    "y_2: float = 0\n",
    "d: float = 0"
   ]
  },
  {
   "cell_type": "code",
   "execution_count": 3,
   "id": "272a8258-8648-4ab2-97d9-044c81a92ded",
   "metadata": {},
   "outputs": [
    {
     "name": "stdin",
     "output_type": "stream",
     "text": [
      "Digite x_1: 5\n",
      "Digite y_1: 6\n",
      "Digite x_2: 4\n",
      "Digite y_2: 8\n"
     ]
    }
   ],
   "source": [
    "# Entrada de Dados\n",
    "\n",
    "x_1: float = float(input('Digite x_1:'))\n",
    "y_1: float = float(input('Digite y_1:'))\n",
    "x_2: float = float(input('Digite x_2:'))\n",
    "y_2: float = float(input('Digite y_2:'))"
   ]
  },
  {
   "cell_type": "code",
   "execution_count": 4,
   "id": "e9379092-e4de-47f4-89a9-82544ac1f717",
   "metadata": {},
   "outputs": [],
   "source": [
    "# Processamento de Dados\n",
    "\n",
    "d = ((x_2 - x_1)**2 + (y_2 - y_1)**2)**(1/2)"
   ]
  },
  {
   "cell_type": "code",
   "execution_count": 7,
   "id": "355ee2e7-8404-4901-81c6-1e8c252cc04e",
   "metadata": {},
   "outputs": [
    {
     "name": "stdout",
     "output_type": "stream",
     "text": [
      "A distância entre (5.0, 6.0) e (4.0, 8.0) é 2.24 unidades de distância.\n"
     ]
    }
   ],
   "source": [
    "# Saída de Dados\n",
    "\n",
    "print(f\"A distância entre ({x_1}, {y_1}) e ({x_2}, {y_2}) é {d:.2f} unidades de distância.\")"
   ]
  }
 ],
 "metadata": {
  "kernelspec": {
   "display_name": "Python 3 (ipykernel)",
   "language": "python",
   "name": "python3"
  },
  "language_info": {
   "codemirror_mode": {
    "name": "ipython",
    "version": 3
   },
   "file_extension": ".py",
   "mimetype": "text/x-python",
   "name": "python",
   "nbconvert_exporter": "python",
   "pygments_lexer": "ipython3",
   "version": "3.11.7"
  }
 },
 "nbformat": 4,
 "nbformat_minor": 5
}
