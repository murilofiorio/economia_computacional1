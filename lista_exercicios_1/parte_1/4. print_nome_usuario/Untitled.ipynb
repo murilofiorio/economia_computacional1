{
 "cells": [
  {
   "cell_type": "markdown",
   "id": "57a6dfd9-f036-48dd-bb17-b27bfa7d3339",
   "metadata": {},
   "source": [
    "# Programa Printa Nome de Usuário\n",
    "\n",
    "Executável: prt_nome.py"
   ]
  },
  {
   "cell_type": "markdown",
   "id": "6e42cab2-244b-4be6-86c8-0c7889296d7b",
   "metadata": {},
   "source": [
    "## Problema\n",
    "\n",
    "O problema envolve criar um algoritmo que pergunte o nome do usuário e apresente a mensagem ”Oi, <nome_usuario>”."
   ]
  },
  {
   "cell_type": "markdown",
   "id": "e5e5eb92-6198-4c19-b620-53693900e4b9",
   "metadata": {},
   "source": [
    "## Projeto \n",
    "\n",
    "Criarei um algoritmo que pergunte o nome do usuário e apresente a mensagem ”Oi, <nome_usuario>”."
   ]
  },
  {
   "cell_type": "code",
   "execution_count": 45,
   "id": "105f48e5-9006-42ea-a221-fd131f03f74b",
   "metadata": {},
   "outputs": [
    {
     "name": "stdin",
     "output_type": "stream",
     "text": [
      "Qual seu nome? Carlos\n"
     ]
    }
   ],
   "source": [
    "# Alocação de Memória, Entrada e Processamento de Dados\n",
    "\n",
    "nome = input('Qual seu nome?')"
   ]
  },
  {
   "cell_type": "code",
   "execution_count": 47,
   "id": "89a7679b-1535-4ed6-be87-0892688e2b43",
   "metadata": {},
   "outputs": [
    {
     "name": "stdout",
     "output_type": "stream",
     "text": [
      "Olá, Carlos.\n"
     ]
    }
   ],
   "source": [
    "# Saída de Dados\n",
    "\n",
    "print(f\"Olá, {nome}.\")"
   ]
  },
  {
   "cell_type": "code",
   "execution_count": null,
   "id": "a33fc1ab-83ff-4905-aae6-3272812d84e6",
   "metadata": {},
   "outputs": [],
   "source": []
  }
 ],
 "metadata": {
  "kernelspec": {
   "display_name": "Python 3 (ipykernel)",
   "language": "python",
   "name": "python3"
  },
  "language_info": {
   "codemirror_mode": {
    "name": "ipython",
    "version": 3
   },
   "file_extension": ".py",
   "mimetype": "text/x-python",
   "name": "python",
   "nbconvert_exporter": "python",
   "pygments_lexer": "ipython3",
   "version": "3.11.7"
  }
 },
 "nbformat": 4,
 "nbformat_minor": 5
}
