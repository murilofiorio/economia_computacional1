{
 "cells": [
  {
   "cell_type": "markdown",
   "id": "4140315c-ad6e-44c1-b116-513ff9f94a7a",
   "metadata": {},
   "source": [
    "# Somatório\n",
    "\n",
    "Executável: somatorio.py"
   ]
  },
  {
   "cell_type": "markdown",
   "id": "b236b582-0492-44af-a4c6-0417f8a7dcfe",
   "metadata": {},
   "source": [
    "# Problema\n",
    "\n",
    "Imprima na tela a soma dos número de 1 a 100"
   ]
  },
  {
   "cell_type": "code",
   "execution_count": 6,
   "id": "70c1b529-485b-43c9-9ce0-40afadc59276",
   "metadata": {},
   "outputs": [],
   "source": [
    "# Alocação de Memória\n",
    "\n",
    "extremidade_1: int = 0\n",
    "extremidade_2: int = 0\n",
    "soma: int = 0"
   ]
  },
  {
   "cell_type": "code",
   "execution_count": 7,
   "id": "93e19f4b-9488-4df6-8485-ac0649211cdc",
   "metadata": {},
   "outputs": [
    {
     "name": "stdin",
     "output_type": "stream",
     "text": [
      "1ª Extremidade:  -4\n",
      "2ª Extremidade:  6\n"
     ]
    }
   ],
   "source": [
    "# Entrada de Dados\n",
    "\n",
    "extremidade_1: int = int(input(\"1ª Extremidade: \"))\n",
    "extremidade_2: int = int(input(\"2ª Extremidade: \"))"
   ]
  },
  {
   "cell_type": "code",
   "execution_count": 8,
   "id": "98ab17c3-d258-4ee1-9c24-ea94ca215829",
   "metadata": {},
   "outputs": [],
   "source": [
    "# Processamento de Dados\n",
    "\n",
    "soma = sum(range(extremidade_1, extremidade_2 +1))"
   ]
  },
  {
   "cell_type": "code",
   "execution_count": 9,
   "id": "adb0f89e-cd27-466c-bf5b-413ac311a44d",
   "metadata": {},
   "outputs": [
    {
     "name": "stdout",
     "output_type": "stream",
     "text": [
      "11\n"
     ]
    }
   ],
   "source": [
    "# Saída de Dados\n",
    "\n",
    "print(soma)"
   ]
  }
 ],
 "metadata": {
  "kernelspec": {
   "display_name": "Python 3 (ipykernel)",
   "language": "python",
   "name": "python3"
  },
  "language_info": {
   "codemirror_mode": {
    "name": "ipython",
    "version": 3
   },
   "file_extension": ".py",
   "mimetype": "text/x-python",
   "name": "python",
   "nbconvert_exporter": "python",
   "pygments_lexer": "ipython3",
   "version": "3.11.7"
  }
 },
 "nbformat": 4,
 "nbformat_minor": 5
}
