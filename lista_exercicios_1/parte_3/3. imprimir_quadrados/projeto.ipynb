{
 "cells": [
  {
   "cell_type": "markdown",
   "id": "b9d65e39-d671-49d5-afe7-bdb427d09ab1",
   "metadata": {},
   "source": [
    "# Imprimindo Quadrados\n",
    "\n",
    "Executável: quad.py"
   ]
  },
  {
   "cell_type": "markdown",
   "id": "0114437b-d1c9-4772-81d7-42f231605f8d",
   "metadata": {},
   "source": [
    "# Problemas\n",
    "\n",
    "Leia cinco números e imprima na tela o quadrado de cada um deles."
   ]
  },
  {
   "cell_type": "code",
   "execution_count": 37,
   "id": "b36f1170-1c49-4194-842b-5c3f66de90b8",
   "metadata": {},
   "outputs": [],
   "source": [
    "# Alocação de Memória\n",
    "\n",
    "numeros: list = []\n",
    "quadrados: list = []\n",
    "numero: float = 0\n",
    "quantidade: int = 0\n",
    "resultado: float = 0"
   ]
  },
  {
   "cell_type": "code",
   "execution_count": 38,
   "id": "277df097-7e40-4a8f-93c7-749658b47d26",
   "metadata": {},
   "outputs": [
    {
     "name": "stdin",
     "output_type": "stream",
     "text": [
      "Qual a quantidade de número que deseja imprimir seus quadrados?  2\n",
      "Digite o 1º número:  6\n",
      "Digite o 2º número:  -9\n"
     ]
    }
   ],
   "source": [
    "# Entrada de Dados\n",
    "\n",
    "quantidade = int(input(\"Qual a quantidade de número que deseja imprimir seus quadrados? \"))\n",
    "\n",
    "for i in range(1, quantidade + 1): # cria intervalo de (1, n+1)\n",
    "    numero = float(input(f\"Digite o {i}º número: \"))\n",
    "    numeros.append(numero)\n",
    "    numero = 0"
   ]
  },
  {
   "cell_type": "code",
   "execution_count": 39,
   "id": "13dd14dd-3d4a-434b-9b71-b349a3c48d5a",
   "metadata": {},
   "outputs": [],
   "source": [
    "# Processamento de Dados\n",
    "\n",
    "quadrados = [x**2 for x in numeros]"
   ]
  },
  {
   "cell_type": "code",
   "execution_count": 41,
   "id": "7e406bde-afa8-4465-8928-71252706359a",
   "metadata": {},
   "outputs": [
    {
     "name": "stdout",
     "output_type": "stream",
     "text": [
      "[36.0, 81.0]\n"
     ]
    }
   ],
   "source": [
    "# Saída de Dados\n",
    "\n",
    "print(quadrados)"
   ]
  }
 ],
 "metadata": {
  "kernelspec": {
   "display_name": "Python 3 (ipykernel)",
   "language": "python",
   "name": "python3"
  },
  "language_info": {
   "codemirror_mode": {
    "name": "ipython",
    "version": 3
   },
   "file_extension": ".py",
   "mimetype": "text/x-python",
   "name": "python",
   "nbconvert_exporter": "python",
   "pygments_lexer": "ipython3",
   "version": "3.11.7"
  }
 },
 "nbformat": 4,
 "nbformat_minor": 5
}
