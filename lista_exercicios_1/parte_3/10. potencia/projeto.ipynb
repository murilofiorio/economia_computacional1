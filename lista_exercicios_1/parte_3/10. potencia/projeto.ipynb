{
 "cells": [
  {
   "cell_type": "markdown",
   "id": "40cbf719-d217-4460-a6a7-ee83cc363f69",
   "metadata": {},
   "source": [
    "# Potência\n",
    "\n",
    "Executável: potencia.py"
   ]
  },
  {
   "cell_type": "markdown",
   "id": "3b0ce8d4-37ce-4e17-8a1c-7c7bc7058ee4",
   "metadata": {},
   "source": [
    "## Problema\n",
    "\n",
    "Leia dois números a e b e calcule a potência $a^b$ sem utilizar uma função nativa do Python."
   ]
  },
  {
   "cell_type": "code",
   "execution_count": 8,
   "id": "d3e80c19-9fe0-44fc-8404-39677e4cabe1",
   "metadata": {},
   "outputs": [],
   "source": [
    "# Alocação de Memória\n",
    "\n",
    "base: int = 0\n",
    "potencia: int = 0\n",
    "resultado = 1 # caso se coloque 0 na potencia"
   ]
  },
  {
   "cell_type": "code",
   "execution_count": 13,
   "id": "35801501-bd8a-4a0c-8d9a-9ffb896dadd1",
   "metadata": {},
   "outputs": [
    {
     "name": "stdin",
     "output_type": "stream",
     "text": [
      "Escolha a potência:  4\n",
      "Qual a base? 2\n"
     ]
    }
   ],
   "source": [
    "# Entrada de Dados\n",
    "\n",
    "potencia = int(input(\"Escolha a potência: \"))\n",
    "base = int(input(\"Qual a base?\"))\n",
    "\n",
    "for i in range(potencia):\n",
    "    resultado = base*i"
   ]
  },
  {
   "cell_type": "code",
   "execution_count": 14,
   "id": "5b4ea96c-5321-4dbe-a2e3-da50f9ad3d36",
   "metadata": {},
   "outputs": [
    {
     "name": "stdout",
     "output_type": "stream",
     "text": [
      "6\n"
     ]
    }
   ],
   "source": [
    "print(resultado)"
   ]
  }
 ],
 "metadata": {
  "kernelspec": {
   "display_name": "Python 3 (ipykernel)",
   "language": "python",
   "name": "python3"
  },
  "language_info": {
   "codemirror_mode": {
    "name": "ipython",
    "version": 3
   },
   "file_extension": ".py",
   "mimetype": "text/x-python",
   "name": "python",
   "nbconvert_exporter": "python",
   "pygments_lexer": "ipython3",
   "version": "3.11.7"
  }
 },
 "nbformat": 4,
 "nbformat_minor": 5
}
