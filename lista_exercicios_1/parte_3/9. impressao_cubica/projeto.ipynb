{
 "cells": [
  {
   "cell_type": "markdown",
   "id": "9267dbc4-b6db-4f3c-88fd-0dcced0e5431",
   "metadata": {},
   "source": [
    "# Impressão Cúbida de Números\n",
    "\n",
    "Executável: cubo.py"
   ]
  },
  {
   "cell_type": "markdown",
   "id": "9d5d40fb-8714-40ab-93cf-42b264931d02",
   "metadata": {},
   "source": [
    "## Problema\n",
    "\n",
    "Leia 6 números e imprima o cubo e a raiz cúbica de cada um deles."
   ]
  },
  {
   "cell_type": "code",
   "execution_count": 3,
   "id": "cbde82ff-1a0f-421c-a15d-cf37fcf67f64",
   "metadata": {},
   "outputs": [],
   "source": [
    "# Alocação de Memória\n",
    "\n",
    "numeros: list = []\n",
    "quadrados: list = []\n",
    "numero: float = 0\n",
    "quantidade: int = 0\n",
    "resultado: float = 0"
   ]
  },
  {
   "cell_type": "code",
   "execution_count": 4,
   "id": "41ac348b-9565-4070-b88f-f65ffc4b4db5",
   "metadata": {},
   "outputs": [
    {
     "name": "stdin",
     "output_type": "stream",
     "text": [
      "Qual a quantidade de números que deseja imprimir seus quadrados?  5\n",
      "Digite o 1º número:  5\n",
      "Digite o 2º número:  5\n",
      "Digite o 3º número:  5\n",
      "Digite o 4º número:  5\n",
      "Digite o 5º número:  5\n"
     ]
    }
   ],
   "source": [
    "# Entrada de Dados\n",
    "\n",
    "quantidade = int(input(\"Qual a quantidade de números que deseja imprimir seus quadrados? \"))\n",
    "\n",
    "for i in range(1, quantidade + 1): # cria intervalo de (1, n+1)\n",
    "    numero = float(input(f\"Digite o {i}º número: \"))\n",
    "    numeros.append(numero)\n",
    "    numero = 0"
   ]
  },
  {
   "cell_type": "code",
   "execution_count": 5,
   "id": "3cd1411b-988a-492e-80bb-e93afb2419a4",
   "metadata": {},
   "outputs": [],
   "source": [
    "# Processamento de Dados\n",
    "\n",
    "quadrados = [x**3 for x in numeros]"
   ]
  },
  {
   "cell_type": "code",
   "execution_count": 6,
   "id": "aab91a68-d8e4-47bf-9ef8-6dc9d0f47083",
   "metadata": {},
   "outputs": [
    {
     "name": "stdout",
     "output_type": "stream",
     "text": [
      "[125.0, 125.0, 125.0, 125.0, 125.0]\n"
     ]
    }
   ],
   "source": [
    "# Saída de Dados\n",
    "\n",
    "print(quadrados)"
   ]
  },
  {
   "cell_type": "code",
   "execution_count": null,
   "id": "3ca76cf4-9ba9-4f71-aa58-aae1a2512006",
   "metadata": {},
   "outputs": [],
   "source": []
  }
 ],
 "metadata": {
  "kernelspec": {
   "display_name": "Python 3 (ipykernel)",
   "language": "python",
   "name": "python3"
  },
  "language_info": {
   "codemirror_mode": {
    "name": "ipython",
    "version": 3
   },
   "file_extension": ".py",
   "mimetype": "text/x-python",
   "name": "python",
   "nbconvert_exporter": "python",
   "pygments_lexer": "ipython3",
   "version": "3.11.7"
  }
 },
 "nbformat": 4,
 "nbformat_minor": 5
}
