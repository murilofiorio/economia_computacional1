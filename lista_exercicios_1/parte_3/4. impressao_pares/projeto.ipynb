{
 "cells": [
  {
   "cell_type": "markdown",
   "id": "348f14e5-ada2-4a46-8568-f5ccda31a34e",
   "metadata": {},
   "source": [
    "# Impressão de Números Pares de uma Lista\n",
    "\n",
    "Executável: pares.py \\\n",
    "Paradigma Estruturado"
   ]
  },
  {
   "cell_type": "markdown",
   "id": "250cf617-8c3a-4052-9e8b-600d7ea196f4",
   "metadata": {},
   "source": [
    "## Problema\n",
    "\n",
    "Imprima na tela todos os números pares."
   ]
  },
  {
   "cell_type": "code",
   "execution_count": 66,
   "id": "ec35650a-8dd5-480a-8889-d69ec6ca71b2",
   "metadata": {},
   "outputs": [],
   "source": [
    "# Alocação de Memória\n",
    "\n",
    "intervalo: list = []\n",
    "pares: list = []\n",
    "extremidade_1: int = 0\n",
    "extremidade_2: int = 0"
   ]
  },
  {
   "cell_type": "code",
   "execution_count": 67,
   "id": "ee2037ab-71fa-4698-9439-d6b436620559",
   "metadata": {},
   "outputs": [
    {
     "name": "stdin",
     "output_type": "stream",
     "text": [
      "Qual valor da primeira extremidade?  0\n",
      "Qual valor da segunda extremidade?  20\n"
     ]
    }
   ],
   "source": [
    "# Entrada de Dado\n",
    "\n",
    "extremidade_1 = int(input(\"Qual valor da primeira extremidade? \"))\n",
    "extremidade_2 = int(input(\"Qual valor da segunda extremidade? \"))"
   ]
  },
  {
   "cell_type": "code",
   "execution_count": 68,
   "id": "1c118c26-736c-4131-85e8-b519f23587a5",
   "metadata": {},
   "outputs": [],
   "source": [
    "# Processamento de Dados\n",
    "\n",
    "for i in range(extremidade_1, extremidade_2 + 1):\n",
    "    intervalo.append(i) # adiciona o \"i\" tal que o resto da divisão deste i contido no intervalo é 0\n",
    "\n",
    "for i in intervalo:\n",
    "    if i % 2 == 0:\n",
    "        pares.append(i)"
   ]
  },
  {
   "cell_type": "code",
   "execution_count": 69,
   "id": "844600ce-2ce3-469a-922e-161efcd5c7ac",
   "metadata": {},
   "outputs": [
    {
     "name": "stdout",
     "output_type": "stream",
     "text": [
      "[0, 2, 4, 6, 8, 10, 12, 14, 16, 18, 20]\n"
     ]
    }
   ],
   "source": [
    "# Saída de Dados\n",
    "\n",
    "print(pares)"
   ]
  }
 ],
 "metadata": {
  "kernelspec": {
   "display_name": "Python 3 (ipykernel)",
   "language": "python",
   "name": "python3"
  },
  "language_info": {
   "codemirror_mode": {
    "name": "ipython",
    "version": 3
   },
   "file_extension": ".py",
   "mimetype": "text/x-python",
   "name": "python",
   "nbconvert_exporter": "python",
   "pygments_lexer": "ipython3",
   "version": "3.11.7"
  }
 },
 "nbformat": 4,
 "nbformat_minor": 5
}
