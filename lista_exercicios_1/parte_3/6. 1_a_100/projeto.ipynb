{
 "cells": [
  {
   "cell_type": "markdown",
   "id": "2578f004-efe5-489a-8609-4bf6ff1c889b",
   "metadata": {},
   "source": [
    "# Número de 1 a 100\n",
    "\n",
    "Executável: 100.py"
   ]
  },
  {
   "cell_type": "markdown",
   "id": "a9cd53f2-6d7d-48da-9437-698d0de60f0d",
   "metadata": {},
   "source": [
    "## Problema\n",
    "\n",
    "Imprima na tela todos os números de 1 a 100."
   ]
  },
  {
   "cell_type": "code",
   "execution_count": 21,
   "id": "648f1ecb-7a9a-4de3-9bee-00c57eb10a54",
   "metadata": {},
   "outputs": [],
   "source": [
    "# Alocação de Memória\n",
    "\n",
    "intervalo: list = []\n",
    "extremidade_esq: int = 0\n",
    "extremidade_dir: int = 0"
   ]
  },
  {
   "cell_type": "code",
   "execution_count": 22,
   "id": "75f92175-3fe5-4511-8b90-e3ad1d314527",
   "metadata": {},
   "outputs": [
    {
     "name": "stdin",
     "output_type": "stream",
     "text": [
      "Digite a primeira extremidade:  0\n",
      "Digite a segunda extremidade:  100\n"
     ]
    }
   ],
   "source": [
    "# Entrada de Dados\n",
    "\n",
    "extremidade_esq = int(input(\"Digite a primeira extremidade: \"))\n",
    "extremidade_dir = int(input(\"Digite a segunda extremidade: \"))"
   ]
  },
  {
   "cell_type": "code",
   "execution_count": 25,
   "id": "7e6ef16a-2410-4f13-8a95-f9f58d1e615e",
   "metadata": {},
   "outputs": [],
   "source": [
    "# Processamento de Dados\n",
    "\n",
    "for i in range(extremidade_esq, extremidade_dir + 1):\n",
    "    intervalo.append(i)"
   ]
  },
  {
   "cell_type": "code",
   "execution_count": 26,
   "id": "195b776e-9ec0-4d8a-8348-e27d4238279a",
   "metadata": {},
   "outputs": [
    {
     "name": "stdout",
     "output_type": "stream",
     "text": [
      "[0, 1, 2, 3, 4, 5, 6, 7, 8, 9, 10, 11, 12, 13, 14, 15, 16, 17, 18, 19, 20, 21, 22, 23, 24, 25, 26, 27, 28, 29, 30, 31, 32, 33, 34, 35, 36, 37, 38, 39, 40, 41, 42, 43, 44, 45, 46, 47, 48, 49, 50, 51, 52, 53, 54, 55, 56, 57, 58, 59, 60, 61, 62, 63, 64, 65, 66, 67, 68, 69, 70, 71, 72, 73, 74, 75, 76, 77, 78, 79, 80, 81, 82, 83, 84, 85, 86, 87, 88, 89, 90, 91, 92, 93, 94, 95, 96, 97, 98, 99, 0, 1, 2, 3, 4, 5, 6, 7, 8, 9, 10, 11, 12, 13, 14, 15, 16, 17, 18, 19, 20, 21, 22, 23, 24, 25, 26, 27, 28, 29, 30, 31, 32, 33, 34, 35, 36, 37, 38, 39, 40, 41, 42, 43, 44, 45, 46, 47, 48, 49, 50, 51, 52, 53, 54, 55, 56, 57, 58, 59, 60, 61, 62, 63, 64, 65, 66, 67, 68, 69, 70, 71, 72, 73, 74, 75, 76, 77, 78, 79, 80, 81, 82, 83, 84, 85, 86, 87, 88, 89, 90, 91, 92, 93, 94, 95, 96, 97, 98, 99, 100]\n"
     ]
    }
   ],
   "source": [
    "# Saída de Dados\n",
    "\n",
    "print(intervalo)"
   ]
  }
 ],
 "metadata": {
  "kernelspec": {
   "display_name": "Python 3 (ipykernel)",
   "language": "python",
   "name": "python3"
  },
  "language_info": {
   "codemirror_mode": {
    "name": "ipython",
    "version": 3
   },
   "file_extension": ".py",
   "mimetype": "text/x-python",
   "name": "python",
   "nbconvert_exporter": "python",
   "pygments_lexer": "ipython3",
   "version": "3.11.7"
  }
 },
 "nbformat": 4,
 "nbformat_minor": 5
}
