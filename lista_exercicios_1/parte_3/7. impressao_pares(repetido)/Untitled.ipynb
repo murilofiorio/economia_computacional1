{
 "cells": [
  {
   "cell_type": "markdown",
   "id": "9ada9d1c-e4ea-4d22-ac0f-4407d86c96f3",
   "metadata": {},
   "source": [
    "# Pares Contidos Dentro de um Intervalo\n",
    "\n",
    "Executável: pares"
   ]
  },
  {
   "cell_type": "markdown",
   "id": "2daa6195-1780-430e-8546-7f9a7b215183",
   "metadata": {},
   "source": [
    "# Problemas\n",
    "\n",
    "Imprimir números Pares"
   ]
  },
  {
   "cell_type": "code",
   "execution_count": 3,
   "id": "4c6137a7-bf64-4a4a-aa9b-13a6ed71b417",
   "metadata": {},
   "outputs": [
    {
     "name": "stdin",
     "output_type": "stream",
     "text": [
      "Qual valor da primeira extremidade?  0\n",
      "Qual valor da segunda extremidade?  100\n"
     ]
    },
    {
     "name": "stdout",
     "output_type": "stream",
     "text": [
      "[0, 2, 4, 6, 8, 10, 12, 14, 16, 18, 20, 22, 24, 26, 28, 30, 32, 34, 36, 38, 40, 42, 44, 46, 48, 50, 52, 54, 56, 58, 60, 62, 64, 66, 68, 70, 72, 74, 76, 78, 80, 82, 84, 86, 88, 90, 92, 94, 96, 98, 100]\n"
     ]
    }
   ],
   "source": [
    "# Alocação de Memória\n",
    "\n",
    "intervalo: list = []\n",
    "pares: list = []\n",
    "extremidade_1: int = 0\n",
    "extremidade_2: int = 0\n",
    "\n",
    "# Entrada de Dado\n",
    "\n",
    "extremidade_1 = int(input(\"Qual valor da primeira extremidade? \"))\n",
    "extremidade_2 = int(input(\"Qual valor da segunda extremidade? \"))\n",
    "\n",
    "# Processamento de Dados\n",
    "\n",
    "for i in range(extremidade_1, extremidade_2 + 1):\n",
    "    intervalo.append(i) # adiciona o \"i\" tal que o resto da divisão deste i contido no intervalo é 0\n",
    "\n",
    "for i in intervalo:\n",
    "    if i % 2 == 0:\n",
    "        pares.append(i)\n",
    "\n",
    "# Saída de Dados\n",
    "\n",
    "print(pares)"
   ]
  },
  {
   "cell_type": "code",
   "execution_count": null,
   "id": "1cfceeeb-5c07-4442-8342-237e76cd8b05",
   "metadata": {},
   "outputs": [],
   "source": []
  }
 ],
 "metadata": {
  "kernelspec": {
   "display_name": "Python 3 (ipykernel)",
   "language": "python",
   "name": "python3"
  },
  "language_info": {
   "codemirror_mode": {
    "name": "ipython",
    "version": 3
   },
   "file_extension": ".py",
   "mimetype": "text/x-python",
   "name": "python",
   "nbconvert_exporter": "python",
   "pygments_lexer": "ipython3",
   "version": "3.11.7"
  }
 },
 "nbformat": 4,
 "nbformat_minor": 5
}
