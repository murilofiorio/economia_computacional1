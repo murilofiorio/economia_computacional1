{
 "cells": [
  {
   "cell_type": "markdown",
   "id": "20a2d7cb-83f3-4a03-b2a5-ea1fff3e7af8",
   "metadata": {},
   "source": [
    "# Programa Conversor de Distâncias\n",
    "\n",
    "Executável: conv_dist.py"
   ]
  },
  {
   "cell_type": "markdown",
   "id": "be315c9b-fc4c-4177-8271-23dad5ab3aff",
   "metadata": {},
   "source": [
    "## Problema\n",
    "\n",
    "Fazer uma programa que leia um valor em metros e o converta para milímetros."
   ]
  },
  {
   "cell_type": "markdown",
   "id": "3d196436-409e-4507-a378-d00f12704fe8",
   "metadata": {},
   "source": [
    "## Projeto\n",
    "\n",
    "Vou usar a conversão de metros para milímetros multiplicando por 1000 cada unidade de metro."
   ]
  },
  {
   "cell_type": "code",
   "execution_count": 2,
   "id": "996ba806-2dc0-47f1-94aa-e1a6be143c82",
   "metadata": {},
   "outputs": [],
   "source": [
    "# Alocação de Memória\n",
    "\n",
    "metros: float = 0\n",
    "\n",
    "milimetros: float = 0\n"
   ]
  },
  {
   "cell_type": "code",
   "execution_count": 4,
   "id": "e9882e1a-184b-4f3c-a642-7cc22e06224f",
   "metadata": {},
   "outputs": [
    {
     "name": "stdin",
     "output_type": "stream",
     "text": [
      "Digite a distância em metros: 1732.6\n"
     ]
    }
   ],
   "source": [
    "## Entrada de Dados\n",
    "\n",
    "metros = float(input(\"Digite a distância em metros:\"))"
   ]
  },
  {
   "cell_type": "code",
   "execution_count": 5,
   "id": "6e513aa7-d928-40ad-a63a-c4efc7a7f9ef",
   "metadata": {},
   "outputs": [],
   "source": [
    "# Processamento de Dados\n",
    "\n",
    "milimetros = 1000*metros"
   ]
  },
  {
   "cell_type": "code",
   "execution_count": 7,
   "id": "d635ac5a-c166-4945-8efb-66602a4ac0c9",
   "metadata": {},
   "outputs": [
    {
     "name": "stdout",
     "output_type": "stream",
     "text": [
      "\n",
      "A distância em milímetros é igual a 1732600.0\n"
     ]
    }
   ],
   "source": [
    "# Saída de Dados\n",
    "\n",
    "print(f\"\\nA distância em milímetros é igual a {milimetros}\")"
   ]
  },
  {
   "cell_type": "code",
   "execution_count": null,
   "id": "d0f027dd-4070-4273-979b-82e79b639da8",
   "metadata": {},
   "outputs": [],
   "source": []
  }
 ],
 "metadata": {
  "kernelspec": {
   "display_name": "Python 3 (ipykernel)",
   "language": "python",
   "name": "python3"
  },
  "language_info": {
   "codemirror_mode": {
    "name": "ipython",
    "version": 3
   },
   "file_extension": ".py",
   "mimetype": "text/x-python",
   "name": "python",
   "nbconvert_exporter": "python",
   "pygments_lexer": "ipython3",
   "version": "3.11.7"
  }
 },
 "nbformat": 4,
 "nbformat_minor": 5
}
